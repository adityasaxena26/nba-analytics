{
 "cells": [
  {
   "cell_type": "code",
   "id": "initial_id",
   "metadata": {
    "collapsed": true,
    "ExecuteTime": {
     "end_time": "2024-07-22T20:52:52.659700Z",
     "start_time": "2024-07-22T20:52:52.473045Z"
    }
   },
   "source": [
    "import pandas as pd\n",
    "import numpy as np\n",
    "from sklearn.model_selection import train_test_split\n",
    "from sklearn.linear_model import LinearRegression\n",
    "from sklearn.ensemble import RandomForestRegressor\n",
    "from sklearn.metrics import mean_squared_error, r2_score\n",
    "from catboost import CatBoostRegressor\n",
    "import seaborn as sns\n",
    "import matplotlib.pyplot as plt\n",
    "from src.data.clean import agg_by_pos"
   ],
   "outputs": [],
   "execution_count": 1
  },
  {
   "metadata": {
    "ExecuteTime": {
     "end_time": "2024-07-22T20:52:52.749926Z",
     "start_time": "2024-07-22T20:52:52.660367Z"
    }
   },
   "cell_type": "code",
   "source": [
    "pca_model_path = '../models'\n",
    "df = pd.read_csv('../data/processed/player_data_clean.csv')\n",
    "df = agg_by_pos(df, team_df='../data/interim/NBA_team_stats_1979-2024_clean.csv', save_file=False, use_pca=False)"
   ],
   "id": "e041e31122cc2648",
   "outputs": [],
   "execution_count": 2
  },
  {
   "metadata": {
    "ExecuteTime": {
     "end_time": "2024-07-22T20:52:52.760943Z",
     "start_time": "2024-07-22T20:52:52.750656Z"
    }
   },
   "cell_type": "code",
   "source": "df",
   "id": "80198c6582fd61f8",
   "outputs": [
    {
     "data": {
      "text/plain": [
       "     experienceC  fg_per_100_possC  fga_per_100_possC  x3p_per_100_possC  \\\n",
       "0       7.000000          7.500000          13.900000           0.000000   \n",
       "1       6.085358          5.414879          11.127564           0.000000   \n",
       "2       7.561709          6.232848          11.639651           0.000000   \n",
       "3       2.000000          7.000000          17.100000           0.000000   \n",
       "4       5.855107          6.518426          14.169766           0.000000   \n",
       "..           ...               ...                ...                ...   \n",
       "550     8.429469          8.841786          16.127184           0.044965   \n",
       "551     9.611630          7.402010          13.150538           0.434458   \n",
       "552     9.568575          6.307989          12.699068           0.166378   \n",
       "553     6.258272          8.428857          14.974173           1.049764   \n",
       "554     5.037627         11.157503          17.686277           0.179947   \n",
       "\n",
       "     x3pa_per_100_possC  x2p_per_100_possC  x2pa_per_100_possC  \\\n",
       "0              0.000000           7.500000           13.900000   \n",
       "1              0.000000           5.414879           11.089271   \n",
       "2              0.028766           6.232848           11.582120   \n",
       "3              0.000000           7.000000           17.100000   \n",
       "4              0.040787           6.518426           14.128979   \n",
       "..                  ...                ...                 ...   \n",
       "550            0.157377           8.819303           15.969808   \n",
       "551            0.920029           6.967552           12.230510   \n",
       "552            1.455193           6.146405           11.258056   \n",
       "553            3.134809           7.379093           11.818780   \n",
       "554            0.641700          10.977556           17.044577   \n",
       "\n",
       "     ft_per_100_possC  fta_per_100_possC  orb_per_100_possC  ...      wsSF  \\\n",
       "0            5.700000           8.500000           5.200000  ...  1.400000   \n",
       "1            5.157557           7.536336           6.206343  ...  3.100000   \n",
       "2            4.797279           6.968513           5.242468  ...  2.800000   \n",
       "3            4.200000           9.100000           5.600000  ...  3.191154   \n",
       "4            4.686936           6.742212           5.292128  ...  4.582300   \n",
       "..                ...                ...                ...  ...       ...   \n",
       "550          3.135941           4.705502           3.869751  ...  4.416016   \n",
       "551          2.136827           3.399210           4.137976  ...  6.578860   \n",
       "552          3.757390           5.258655           5.181758  ...  5.049394   \n",
       "553          2.836248           4.418715           4.090782  ...  1.937539   \n",
       "554          5.161797           7.389951           4.828552  ...  3.300000   \n",
       "\n",
       "      ws_48SF    obpmSF    dbpmSF     bpmSF    vorpSF   person_idSF  \\\n",
       "0    0.025000 -0.200000 -2.000000 -2.100000 -0.100000  1.110000e+02   \n",
       "1    0.131000  0.300000  0.300000  0.600000  0.800000  6.730000e+02   \n",
       "2    0.049000  1.000000 -1.800000 -0.800000  0.800000  7.540000e+02   \n",
       "3    0.082642 -0.690967 -0.433375 -1.150715  0.608038  9.194319e+02   \n",
       "4    0.092259  0.341972  0.379014  0.720986  1.587105  2.740855e+03   \n",
       "..        ...       ...       ...       ...       ...           ...   \n",
       "550  0.098963 -0.815677  0.504004 -0.311673  1.276315  5.274170e+05   \n",
       "551  0.130302  0.265083  0.556888  0.821971  1.975059  7.458626e+05   \n",
       "552  0.107883 -0.114208  0.751176  0.625731  1.527857  5.262295e+05   \n",
       "553  0.065313 -1.748665 -0.220596 -1.969261  0.030037  1.629008e+06   \n",
       "554  0.080000 -0.400000 -0.100000 -0.400000  0.800000  1.628398e+06   \n",
       "\n",
       "      heightSF    weightSF     W%  \n",
       "0    80.000000  240.000000  0.341  \n",
       "1    81.000000  240.000000  0.305  \n",
       "2    78.000000  220.000000  0.402  \n",
       "3    79.000000  234.725502  0.341  \n",
       "4    80.532238  217.983569  0.451  \n",
       "..         ...         ...    ...  \n",
       "550  79.544622  199.138446  0.524  \n",
       "551  79.237530  199.906176  0.390  \n",
       "552  79.293419  206.908292  0.347  \n",
       "553  79.203147  201.966845  0.427  \n",
       "554  81.000000  221.000000  0.427  \n",
       "\n",
       "[555 rows x 316 columns]"
      ],
      "text/html": [
       "<div>\n",
       "<style scoped>\n",
       "    .dataframe tbody tr th:only-of-type {\n",
       "        vertical-align: middle;\n",
       "    }\n",
       "\n",
       "    .dataframe tbody tr th {\n",
       "        vertical-align: top;\n",
       "    }\n",
       "\n",
       "    .dataframe thead th {\n",
       "        text-align: right;\n",
       "    }\n",
       "</style>\n",
       "<table border=\"1\" class=\"dataframe\">\n",
       "  <thead>\n",
       "    <tr style=\"text-align: right;\">\n",
       "      <th></th>\n",
       "      <th>experienceC</th>\n",
       "      <th>fg_per_100_possC</th>\n",
       "      <th>fga_per_100_possC</th>\n",
       "      <th>x3p_per_100_possC</th>\n",
       "      <th>x3pa_per_100_possC</th>\n",
       "      <th>x2p_per_100_possC</th>\n",
       "      <th>x2pa_per_100_possC</th>\n",
       "      <th>ft_per_100_possC</th>\n",
       "      <th>fta_per_100_possC</th>\n",
       "      <th>orb_per_100_possC</th>\n",
       "      <th>...</th>\n",
       "      <th>wsSF</th>\n",
       "      <th>ws_48SF</th>\n",
       "      <th>obpmSF</th>\n",
       "      <th>dbpmSF</th>\n",
       "      <th>bpmSF</th>\n",
       "      <th>vorpSF</th>\n",
       "      <th>person_idSF</th>\n",
       "      <th>heightSF</th>\n",
       "      <th>weightSF</th>\n",
       "      <th>W%</th>\n",
       "    </tr>\n",
       "  </thead>\n",
       "  <tbody>\n",
       "    <tr>\n",
       "      <th>0</th>\n",
       "      <td>7.000000</td>\n",
       "      <td>7.500000</td>\n",
       "      <td>13.900000</td>\n",
       "      <td>0.000000</td>\n",
       "      <td>0.000000</td>\n",
       "      <td>7.500000</td>\n",
       "      <td>13.900000</td>\n",
       "      <td>5.700000</td>\n",
       "      <td>8.500000</td>\n",
       "      <td>5.200000</td>\n",
       "      <td>...</td>\n",
       "      <td>1.400000</td>\n",
       "      <td>0.025000</td>\n",
       "      <td>-0.200000</td>\n",
       "      <td>-2.000000</td>\n",
       "      <td>-2.100000</td>\n",
       "      <td>-0.100000</td>\n",
       "      <td>1.110000e+02</td>\n",
       "      <td>80.000000</td>\n",
       "      <td>240.000000</td>\n",
       "      <td>0.341</td>\n",
       "    </tr>\n",
       "    <tr>\n",
       "      <th>1</th>\n",
       "      <td>6.085358</td>\n",
       "      <td>5.414879</td>\n",
       "      <td>11.127564</td>\n",
       "      <td>0.000000</td>\n",
       "      <td>0.000000</td>\n",
       "      <td>5.414879</td>\n",
       "      <td>11.089271</td>\n",
       "      <td>5.157557</td>\n",
       "      <td>7.536336</td>\n",
       "      <td>6.206343</td>\n",
       "      <td>...</td>\n",
       "      <td>3.100000</td>\n",
       "      <td>0.131000</td>\n",
       "      <td>0.300000</td>\n",
       "      <td>0.300000</td>\n",
       "      <td>0.600000</td>\n",
       "      <td>0.800000</td>\n",
       "      <td>6.730000e+02</td>\n",
       "      <td>81.000000</td>\n",
       "      <td>240.000000</td>\n",
       "      <td>0.305</td>\n",
       "    </tr>\n",
       "    <tr>\n",
       "      <th>2</th>\n",
       "      <td>7.561709</td>\n",
       "      <td>6.232848</td>\n",
       "      <td>11.639651</td>\n",
       "      <td>0.000000</td>\n",
       "      <td>0.028766</td>\n",
       "      <td>6.232848</td>\n",
       "      <td>11.582120</td>\n",
       "      <td>4.797279</td>\n",
       "      <td>6.968513</td>\n",
       "      <td>5.242468</td>\n",
       "      <td>...</td>\n",
       "      <td>2.800000</td>\n",
       "      <td>0.049000</td>\n",
       "      <td>1.000000</td>\n",
       "      <td>-1.800000</td>\n",
       "      <td>-0.800000</td>\n",
       "      <td>0.800000</td>\n",
       "      <td>7.540000e+02</td>\n",
       "      <td>78.000000</td>\n",
       "      <td>220.000000</td>\n",
       "      <td>0.402</td>\n",
       "    </tr>\n",
       "    <tr>\n",
       "      <th>3</th>\n",
       "      <td>2.000000</td>\n",
       "      <td>7.000000</td>\n",
       "      <td>17.100000</td>\n",
       "      <td>0.000000</td>\n",
       "      <td>0.000000</td>\n",
       "      <td>7.000000</td>\n",
       "      <td>17.100000</td>\n",
       "      <td>4.200000</td>\n",
       "      <td>9.100000</td>\n",
       "      <td>5.600000</td>\n",
       "      <td>...</td>\n",
       "      <td>3.191154</td>\n",
       "      <td>0.082642</td>\n",
       "      <td>-0.690967</td>\n",
       "      <td>-0.433375</td>\n",
       "      <td>-1.150715</td>\n",
       "      <td>0.608038</td>\n",
       "      <td>9.194319e+02</td>\n",
       "      <td>79.000000</td>\n",
       "      <td>234.725502</td>\n",
       "      <td>0.341</td>\n",
       "    </tr>\n",
       "    <tr>\n",
       "      <th>4</th>\n",
       "      <td>5.855107</td>\n",
       "      <td>6.518426</td>\n",
       "      <td>14.169766</td>\n",
       "      <td>0.000000</td>\n",
       "      <td>0.040787</td>\n",
       "      <td>6.518426</td>\n",
       "      <td>14.128979</td>\n",
       "      <td>4.686936</td>\n",
       "      <td>6.742212</td>\n",
       "      <td>5.292128</td>\n",
       "      <td>...</td>\n",
       "      <td>4.582300</td>\n",
       "      <td>0.092259</td>\n",
       "      <td>0.341972</td>\n",
       "      <td>0.379014</td>\n",
       "      <td>0.720986</td>\n",
       "      <td>1.587105</td>\n",
       "      <td>2.740855e+03</td>\n",
       "      <td>80.532238</td>\n",
       "      <td>217.983569</td>\n",
       "      <td>0.451</td>\n",
       "    </tr>\n",
       "    <tr>\n",
       "      <th>...</th>\n",
       "      <td>...</td>\n",
       "      <td>...</td>\n",
       "      <td>...</td>\n",
       "      <td>...</td>\n",
       "      <td>...</td>\n",
       "      <td>...</td>\n",
       "      <td>...</td>\n",
       "      <td>...</td>\n",
       "      <td>...</td>\n",
       "      <td>...</td>\n",
       "      <td>...</td>\n",
       "      <td>...</td>\n",
       "      <td>...</td>\n",
       "      <td>...</td>\n",
       "      <td>...</td>\n",
       "      <td>...</td>\n",
       "      <td>...</td>\n",
       "      <td>...</td>\n",
       "      <td>...</td>\n",
       "      <td>...</td>\n",
       "      <td>...</td>\n",
       "    </tr>\n",
       "    <tr>\n",
       "      <th>550</th>\n",
       "      <td>8.429469</td>\n",
       "      <td>8.841786</td>\n",
       "      <td>16.127184</td>\n",
       "      <td>0.044965</td>\n",
       "      <td>0.157377</td>\n",
       "      <td>8.819303</td>\n",
       "      <td>15.969808</td>\n",
       "      <td>3.135941</td>\n",
       "      <td>4.705502</td>\n",
       "      <td>3.869751</td>\n",
       "      <td>...</td>\n",
       "      <td>4.416016</td>\n",
       "      <td>0.098963</td>\n",
       "      <td>-0.815677</td>\n",
       "      <td>0.504004</td>\n",
       "      <td>-0.311673</td>\n",
       "      <td>1.276315</td>\n",
       "      <td>5.274170e+05</td>\n",
       "      <td>79.544622</td>\n",
       "      <td>199.138446</td>\n",
       "      <td>0.524</td>\n",
       "    </tr>\n",
       "    <tr>\n",
       "      <th>551</th>\n",
       "      <td>9.611630</td>\n",
       "      <td>7.402010</td>\n",
       "      <td>13.150538</td>\n",
       "      <td>0.434458</td>\n",
       "      <td>0.920029</td>\n",
       "      <td>6.967552</td>\n",
       "      <td>12.230510</td>\n",
       "      <td>2.136827</td>\n",
       "      <td>3.399210</td>\n",
       "      <td>4.137976</td>\n",
       "      <td>...</td>\n",
       "      <td>6.578860</td>\n",
       "      <td>0.130302</td>\n",
       "      <td>0.265083</td>\n",
       "      <td>0.556888</td>\n",
       "      <td>0.821971</td>\n",
       "      <td>1.975059</td>\n",
       "      <td>7.458626e+05</td>\n",
       "      <td>79.237530</td>\n",
       "      <td>199.906176</td>\n",
       "      <td>0.390</td>\n",
       "    </tr>\n",
       "    <tr>\n",
       "      <th>552</th>\n",
       "      <td>9.568575</td>\n",
       "      <td>6.307989</td>\n",
       "      <td>12.699068</td>\n",
       "      <td>0.166378</td>\n",
       "      <td>1.455193</td>\n",
       "      <td>6.146405</td>\n",
       "      <td>11.258056</td>\n",
       "      <td>3.757390</td>\n",
       "      <td>5.258655</td>\n",
       "      <td>5.181758</td>\n",
       "      <td>...</td>\n",
       "      <td>5.049394</td>\n",
       "      <td>0.107883</td>\n",
       "      <td>-0.114208</td>\n",
       "      <td>0.751176</td>\n",
       "      <td>0.625731</td>\n",
       "      <td>1.527857</td>\n",
       "      <td>5.262295e+05</td>\n",
       "      <td>79.293419</td>\n",
       "      <td>206.908292</td>\n",
       "      <td>0.347</td>\n",
       "    </tr>\n",
       "    <tr>\n",
       "      <th>553</th>\n",
       "      <td>6.258272</td>\n",
       "      <td>8.428857</td>\n",
       "      <td>14.974173</td>\n",
       "      <td>1.049764</td>\n",
       "      <td>3.134809</td>\n",
       "      <td>7.379093</td>\n",
       "      <td>11.818780</td>\n",
       "      <td>2.836248</td>\n",
       "      <td>4.418715</td>\n",
       "      <td>4.090782</td>\n",
       "      <td>...</td>\n",
       "      <td>1.937539</td>\n",
       "      <td>0.065313</td>\n",
       "      <td>-1.748665</td>\n",
       "      <td>-0.220596</td>\n",
       "      <td>-1.969261</td>\n",
       "      <td>0.030037</td>\n",
       "      <td>1.629008e+06</td>\n",
       "      <td>79.203147</td>\n",
       "      <td>201.966845</td>\n",
       "      <td>0.427</td>\n",
       "    </tr>\n",
       "    <tr>\n",
       "      <th>554</th>\n",
       "      <td>5.037627</td>\n",
       "      <td>11.157503</td>\n",
       "      <td>17.686277</td>\n",
       "      <td>0.179947</td>\n",
       "      <td>0.641700</td>\n",
       "      <td>10.977556</td>\n",
       "      <td>17.044577</td>\n",
       "      <td>5.161797</td>\n",
       "      <td>7.389951</td>\n",
       "      <td>4.828552</td>\n",
       "      <td>...</td>\n",
       "      <td>3.300000</td>\n",
       "      <td>0.080000</td>\n",
       "      <td>-0.400000</td>\n",
       "      <td>-0.100000</td>\n",
       "      <td>-0.400000</td>\n",
       "      <td>0.800000</td>\n",
       "      <td>1.628398e+06</td>\n",
       "      <td>81.000000</td>\n",
       "      <td>221.000000</td>\n",
       "      <td>0.427</td>\n",
       "    </tr>\n",
       "  </tbody>\n",
       "</table>\n",
       "<p>555 rows × 316 columns</p>\n",
       "</div>"
      ]
     },
     "execution_count": 3,
     "metadata": {},
     "output_type": "execute_result"
    }
   ],
   "execution_count": 3
  },
  {
   "metadata": {
    "ExecuteTime": {
     "end_time": "2024-07-22T20:52:52.829736Z",
     "start_time": "2024-07-22T20:52:52.761681Z"
    }
   },
   "cell_type": "code",
   "source": [
    "X, y = df.drop(columns='W%'), df['W%']\n",
    "X_train, X_test, y_train, y_test = train_test_split(X, y, test_size=0.2, random_state=0)\n",
    "lin_reg = LinearRegression().fit(X_train, y_train)\n",
    "y_pred = lin_reg.predict(X_test)\n",
    "mse = mean_squared_error(y_test, y_pred)\n",
    "r2 = r2_score(y_test, y_pred)\n",
    "\n",
    "print(f'Mean Squared Error: {mse}')\n",
    "print(f'R^2 Score: {r2}')"
   ],
   "id": "4b1caaa8c5da1429",
   "outputs": [
    {
     "name": "stdout",
     "output_type": "stream",
     "text": [
      "Mean Squared Error: 0.05319046256572641\n",
      "R^2 Score: -1.5180764913907\n"
     ]
    }
   ],
   "execution_count": 4
  },
  {
   "metadata": {
    "ExecuteTime": {
     "end_time": "2024-07-22T20:52:53.017644Z",
     "start_time": "2024-07-22T20:52:52.832812Z"
    }
   },
   "cell_type": "code",
   "source": "sns.scatterplot(x=y_test, y=y_pred)",
   "id": "e7cd4209a2efec22",
   "outputs": [
    {
     "data": {
      "text/plain": [
       "<Axes: xlabel='W%'>"
      ]
     },
     "execution_count": 5,
     "metadata": {},
     "output_type": "execute_result"
    },
    {
     "data": {
      "text/plain": [
       "<Figure size 640x480 with 1 Axes>"
      ],
      "image/png": "[encoded data removed]"
     },
     "metadata": {},
     "output_type": "display_data"
    }
   ],
   "execution_count": 5
  },
  {
   "metadata": {
    "ExecuteTime": {
     "end_time": "2024-07-22T20:52:57.718227Z",
     "start_time": "2024-07-22T20:52:53.019250Z"
    }
   },
   "cell_type": "code",
   "source": [
    "rf_reg = RandomForestRegressor(random_state=41)\n",
    "rf_reg.fit(X_train, y_train)\n",
    "y_pred = rf_reg.predict(X_test)\n",
    "mse = mean_squared_error(y_test, y_pred)\n",
    "r2 = r2_score(y_test, y_pred)\n",
    "\n",
    "print(f'Mean Squared Error: {mse}')\n",
    "print(f'R^2 Score: {r2}')"
   ],
   "id": "733e4d2940bcc4a1",
   "outputs": [
    {
     "name": "stdout",
     "output_type": "stream",
     "text": [
      "Mean Squared Error: 0.018414609039639637\n",
      "R^2 Score: 0.1282385622503378\n"
     ]
    }
   ],
   "execution_count": 6
  },
  {
   "metadata": {
    "ExecuteTime": {
     "end_time": "2024-07-22T20:52:57.808135Z",
     "start_time": "2024-07-22T20:52:57.718993Z"
    }
   },
   "cell_type": "code",
   "source": "sns.scatterplot(x=y_test, y=y_pred)",
   "id": "2c48cde1648515b9",
   "outputs": [
    {
     "data": {
      "text/plain": [
       "<Axes: xlabel='W%'>"
      ]
     },
     "execution_count": 7,
     "metadata": {},
     "output_type": "execute_result"
    },
    {
     "data": {
      "text/plain": [
       "<Figure size 640x480 with 1 Axes>"
      ],
      "image/png": "[encoded data removed]"
     },
     "metadata": {},
     "output_type": "display_data"
    }
   ],
   "execution_count": 7
  },
  {
   "metadata": {
    "ExecuteTime": {
     "end_time": "2024-07-22T20:52:57.896563Z",
     "start_time": "2024-07-22T20:52:57.808687Z"
    }
   },
   "cell_type": "code",
   "source": [
    "plt.scatter(y_test, y_pred)\n",
    "plt.xlabel('Actual W/L%')\n",
    "plt.ylabel('Predicted W/L%')\n",
    "plt.title('Actual vs Predicted W/L%')\n",
    "plt.plot([min(y_test), max(y_test)], [min(y_test), max(y_test)], color='red')\n",
    "plt.show()"
   ],
   "id": "a70702d3c73cf72a",
   "outputs": [
    {
     "data": {
      "text/plain": [
       "<Figure size 640x480 with 1 Axes>"
      ],
      "image/png": "[encoded data removed]"
     },
     "metadata": {},
     "output_type": "display_data"
    }
   ],
   "execution_count": 8
  },
  {
   "metadata": {
    "ExecuteTime": {
     "end_time": "2024-07-22T20:52:57.906414Z",
     "start_time": "2024-07-22T20:52:57.897226Z"
    }
   },
   "cell_type": "code",
   "source": [
    "y_train_pred = rf_reg.predict(X_train)\n",
    "mse = mean_squared_error(y_train, y_train_pred)\n",
    "r2 = r2_score(y_train, y_train_pred)\n",
    "\n",
    "print(f'Mean Squared Error: {mse}')\n",
    "print(f'R^2 Score: {r2}')"
   ],
   "id": "3d419b846a23973b",
   "outputs": [
    {
     "name": "stdout",
     "output_type": "stream",
     "text": [
      "Mean Squared Error: 0.002408521529954958\n",
      "R^2 Score: 0.8728576934271934\n"
     ]
    }
   ],
   "execution_count": 9
  },
  {
   "metadata": {
    "ExecuteTime": {
     "end_time": "2024-07-22T20:53:06.686911Z",
     "start_time": "2024-07-22T20:52:57.908433Z"
    }
   },
   "cell_type": "code",
   "source": [
    "cat_reg = CatBoostRegressor(iterations=1000, learning_rate=0.01, depth=6, l2_leaf_reg=3, bagging_temperature=1,\n",
    "                            early_stopping_rounds=50, loss_function='RMSE', random_state=41, logging_level='Silent')\n",
    "cat_reg.fit(X_train, y_train)\n",
    "y_pred = cat_reg.predict(X_test)\n",
    "mse = mean_squared_error(y_test, y_pred)\n",
    "r2 = r2_score(y_test, y_pred)\n",
    "print(f'Mean Squared Error: {mse}')\n",
    "print(f'R^2 Score: {r2}')"
   ],
   "id": "2c99209b664214b3",
   "outputs": [
    {
     "name": "stdout",
     "output_type": "stream",
     "text": [
      "Mean Squared Error: 0.01792204787767027\n",
      "R^2 Score: 0.15155677801119016\n"
     ]
    }
   ],
   "execution_count": 10
  },
  {
   "metadata": {
    "ExecuteTime": {
     "end_time": "2024-07-22T20:53:06.773463Z",
     "start_time": "2024-07-22T20:53:06.687767Z"
    }
   },
   "cell_type": "code",
   "source": [
    "plt.scatter(y_test, y_pred)\n",
    "plt.xlabel('Actual W/L%')\n",
    "plt.ylabel('Predicted W/L%')\n",
    "plt.title('Actual vs Predicted W/L%')\n",
    "plt.plot([min(y_test), max(y_test)], [min(y_test), max(y_test)], color='red')\n",
    "plt.show()"
   ],
   "id": "b2c1eee3eede6299",
   "outputs": [
    {
     "data": {
      "text/plain": [
       "<Figure size 640x480 with 1 Axes>"
      ],
      "image/png": "[encoded data removed]"
     },
     "metadata": {},
     "output_type": "display_data"
    }
   ],
   "execution_count": 11
  },
  {
   "metadata": {
    "ExecuteTime": {
     "end_time": "2024-07-22T20:53:06.779393Z",
     "start_time": "2024-07-22T20:53:06.774105Z"
    }
   },
   "cell_type": "code",
   "source": [
    "y_train_pred = cat_reg.predict(X_train)\n",
    "mse = mean_squared_error(y_train, y_train_pred)\n",
    "r2 = r2_score(y_train, y_train_pred)\n",
    "\n",
    "print(f'Mean Squared Error: {mse}')\n",
    "print(f'R^2 Score: {r2}')"
   ],
   "id": "2a46b3d16ad35791",
   "outputs": [
    {
     "name": "stdout",
     "output_type": "stream",
     "text": [
      "Mean Squared Error: 0.002026414418943473\n",
      "R^2 Score: 0.8930285654113771\n"
     ]
    }
   ],
   "execution_count": 12
  },
  {
   "metadata": {
    "ExecuteTime": {
     "end_time": "2024-07-22T20:53:06.782763Z",
     "start_time": "2024-07-22T20:53:06.780Z"
    }
   },
   "cell_type": "code",
   "source": [
    "# Just predicting average win %\n",
    "n_test = len(y_test)\n",
    "y_pred = np.full((n_test,), y_train.mean())\n",
    "mse = mean_squared_error(y_test, y_pred)\n",
    "r2 = r2_score(y_test, y_pred)\n",
    "print(f'Mean Squared Error: {mse}')\n",
    "print(f'R^2 Score: {r2}')"
   ],
   "id": "716d8af22f928ba7",
   "outputs": [
    {
     "name": "stdout",
     "output_type": "stream",
     "text": [
      "Mean Squared Error: 0.021642858620444766\n",
      "R^2 Score: -0.024589200202798533\n"
     ]
    }
   ],
   "execution_count": 13
  },
  {
   "metadata": {
    "ExecuteTime": {
     "end_time": "2024-07-22T20:53:06.784500Z",
     "start_time": "2024-07-22T20:53:06.783283Z"
    }
   },
   "cell_type": "code",
   "source": "",
   "id": "553175918fec29a9",
   "outputs": [],
   "execution_count": 13
  }
 ],
 "metadata": {
  "kernelspec": {
   "display_name": "Python 3",
   "language": "python",
   "name": "python3"
  },
  "language_info": {
   "codemirror_mode": {
    "name": "ipython",
    "version": 2
   },
   "file_extension": ".py",
   "mimetype": "text/x-python",
   "name": "python",
   "nbconvert_exporter": "python",
   "pygments_lexer": "ipython2",
   "version": "2.7.6"
  }
 },
 "nbformat": 4,
 "nbformat_minor": 5
}
