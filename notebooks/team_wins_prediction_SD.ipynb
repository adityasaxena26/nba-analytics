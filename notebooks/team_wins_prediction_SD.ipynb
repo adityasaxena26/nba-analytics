{
 "cells": [
  {
   "cell_type": "code",
   "id": "initial_id",
   "metadata": {
    "collapsed": true,
    "ExecuteTime": {
     "end_time": "2024-08-05T18:29:53.923472Z",
     "start_time": "2024-08-05T18:29:53.920639Z"
    }
   },
   "source": [
    "import pandas as pd\n",
    "import numpy as np\n",
    "import joblib\n",
    "from sklearn.model_selection import train_test_split, GridSearchCV\n",
    "from sklearn.linear_model import LinearRegression, Ridge, Lasso\n",
    "from sklearn.ensemble import RandomForestRegressor\n",
    "from sklearn.metrics import mean_squared_error, r2_score\n",
    "from sklearn.preprocessing import StandardScaler\n",
    "from sklearn.decomposition import PCA\n",
    "from catboost import CatBoostRegressor\n",
    "import seaborn as sns\n",
    "import matplotlib.pyplot as plt\n",
    "from src.models.win_prediction import agg_by_pos"
   ],
   "outputs": [],
   "execution_count": 25
  },
  {
   "metadata": {
    "ExecuteTime": {
     "end_time": "2024-08-05T18:19:09.237907Z",
     "start_time": "2024-08-05T18:18:26.001994Z"
    }
   },
   "cell_type": "code",
   "source": [
    "#team_df = pd.read_csv('../data/external/NBA_team_stats_1979-2024.csv', header=1)\n",
    "#player_df = pd.read_csv('../data/processed/player_data_clean.csv')\n",
    "#df = agg_by_pos(team_df, player_df)"
   ],
   "id": "798754e70ab84ce1",
   "outputs": [
    {
     "ename": "OSError",
     "evalue": "Cannot save file into a non-existent directory: '../../data/interim'",
     "output_type": "error",
     "traceback": [
      "\u001B[0;31m---------------------------------------------------------------------------\u001B[0m",
      "\u001B[0;31mOSError\u001B[0m                                   Traceback (most recent call last)",
      "Cell \u001B[0;32mIn[5], line 3\u001B[0m\n\u001B[1;32m      1\u001B[0m team_df \u001B[38;5;241m=\u001B[39m pd\u001B[38;5;241m.\u001B[39mread_csv(\u001B[38;5;124m'\u001B[39m\u001B[38;5;124m../data/external/NBA_team_stats_1979-2024.csv\u001B[39m\u001B[38;5;124m'\u001B[39m, header\u001B[38;5;241m=\u001B[39m\u001B[38;5;241m1\u001B[39m)\n\u001B[1;32m      2\u001B[0m player_df \u001B[38;5;241m=\u001B[39m pd\u001B[38;5;241m.\u001B[39mread_csv(\u001B[38;5;124m'\u001B[39m\u001B[38;5;124m../data/processed/player_data_clean.csv\u001B[39m\u001B[38;5;124m'\u001B[39m)\n\u001B[0;32m----> 3\u001B[0m df \u001B[38;5;241m=\u001B[39m \u001B[43magg_by_pos\u001B[49m\u001B[43m(\u001B[49m\u001B[43mteam_df\u001B[49m\u001B[43m,\u001B[49m\u001B[43m \u001B[49m\u001B[43mplayer_df\u001B[49m\u001B[43m)\u001B[49m\n",
      "File \u001B[0;32m~/PycharmProjects/nba-analytics/src/models/win_prediction.py:80\u001B[0m, in \u001B[0;36magg_by_pos\u001B[0;34m(team_stats, player_stats)\u001B[0m\n\u001B[1;32m     76\u001B[0m     merged_df[field] \u001B[38;5;241m=\u001B[39m merged_df[field \u001B[38;5;241m+\u001B[39m \u001B[38;5;124m'\u001B[39m\u001B[38;5;124m_df2\u001B[39m\u001B[38;5;124m'\u001B[39m]\u001B[38;5;241m.\u001B[39mcombine_first(merged_df[field])\n\u001B[1;32m     78\u001B[0m merged_df\u001B[38;5;241m.\u001B[39mdrop(columns\u001B[38;5;241m=\u001B[39m[field \u001B[38;5;241m+\u001B[39m \u001B[38;5;124m'\u001B[39m\u001B[38;5;124m_df2\u001B[39m\u001B[38;5;124m'\u001B[39m \u001B[38;5;28;01mfor\u001B[39;00m field \u001B[38;5;129;01min\u001B[39;00m player_metrics], inplace\u001B[38;5;241m=\u001B[39m\u001B[38;5;28;01mTrue\u001B[39;00m)\n\u001B[0;32m---> 80\u001B[0m \u001B[43mmerged_df\u001B[49m\u001B[38;5;241;43m.\u001B[39;49m\u001B[43mto_csv\u001B[49m\u001B[43m(\u001B[49m\u001B[38;5;124;43m'\u001B[39;49m\u001B[38;5;124;43m../../data/interim/player_stats_year_adjusted.csv\u001B[39;49m\u001B[38;5;124;43m'\u001B[39;49m\u001B[43m,\u001B[49m\u001B[43m \u001B[49m\u001B[43mindex\u001B[49m\u001B[38;5;241;43m=\u001B[39;49m\u001B[38;5;28;43;01mFalse\u001B[39;49;00m\u001B[43m)\u001B[49m\n\u001B[1;32m     82\u001B[0m df \u001B[38;5;241m=\u001B[39m pd\u001B[38;5;241m.\u001B[39mread_csv(\u001B[38;5;124m'\u001B[39m\u001B[38;5;124m../../data/interim/player_stats_year_adjusted.csv\u001B[39m\u001B[38;5;124m'\u001B[39m)\n\u001B[1;32m     84\u001B[0m results \u001B[38;5;241m=\u001B[39m []\n",
      "File \u001B[0;32m/opt/anaconda3/envs/nba-analytics/lib/python3.8/site-packages/pandas/core/generic.py:3772\u001B[0m, in \u001B[0;36mNDFrame.to_csv\u001B[0;34m(self, path_or_buf, sep, na_rep, float_format, columns, header, index, index_label, mode, encoding, compression, quoting, quotechar, lineterminator, chunksize, date_format, doublequote, escapechar, decimal, errors, storage_options)\u001B[0m\n\u001B[1;32m   3761\u001B[0m df \u001B[38;5;241m=\u001B[39m \u001B[38;5;28mself\u001B[39m \u001B[38;5;28;01mif\u001B[39;00m \u001B[38;5;28misinstance\u001B[39m(\u001B[38;5;28mself\u001B[39m, ABCDataFrame) \u001B[38;5;28;01melse\u001B[39;00m \u001B[38;5;28mself\u001B[39m\u001B[38;5;241m.\u001B[39mto_frame()\n\u001B[1;32m   3763\u001B[0m formatter \u001B[38;5;241m=\u001B[39m DataFrameFormatter(\n\u001B[1;32m   3764\u001B[0m     frame\u001B[38;5;241m=\u001B[39mdf,\n\u001B[1;32m   3765\u001B[0m     header\u001B[38;5;241m=\u001B[39mheader,\n\u001B[0;32m   (...)\u001B[0m\n\u001B[1;32m   3769\u001B[0m     decimal\u001B[38;5;241m=\u001B[39mdecimal,\n\u001B[1;32m   3770\u001B[0m )\n\u001B[0;32m-> 3772\u001B[0m \u001B[38;5;28;01mreturn\u001B[39;00m \u001B[43mDataFrameRenderer\u001B[49m\u001B[43m(\u001B[49m\u001B[43mformatter\u001B[49m\u001B[43m)\u001B[49m\u001B[38;5;241;43m.\u001B[39;49m\u001B[43mto_csv\u001B[49m\u001B[43m(\u001B[49m\n\u001B[1;32m   3773\u001B[0m \u001B[43m    \u001B[49m\u001B[43mpath_or_buf\u001B[49m\u001B[43m,\u001B[49m\n\u001B[1;32m   3774\u001B[0m \u001B[43m    \u001B[49m\u001B[43mlineterminator\u001B[49m\u001B[38;5;241;43m=\u001B[39;49m\u001B[43mlineterminator\u001B[49m\u001B[43m,\u001B[49m\n\u001B[1;32m   3775\u001B[0m \u001B[43m    \u001B[49m\u001B[43msep\u001B[49m\u001B[38;5;241;43m=\u001B[39;49m\u001B[43msep\u001B[49m\u001B[43m,\u001B[49m\n\u001B[1;32m   3776\u001B[0m \u001B[43m    \u001B[49m\u001B[43mencoding\u001B[49m\u001B[38;5;241;43m=\u001B[39;49m\u001B[43mencoding\u001B[49m\u001B[43m,\u001B[49m\n\u001B[1;32m   3777\u001B[0m \u001B[43m    \u001B[49m\u001B[43merrors\u001B[49m\u001B[38;5;241;43m=\u001B[39;49m\u001B[43merrors\u001B[49m\u001B[43m,\u001B[49m\n\u001B[1;32m   3778\u001B[0m \u001B[43m    \u001B[49m\u001B[43mcompression\u001B[49m\u001B[38;5;241;43m=\u001B[39;49m\u001B[43mcompression\u001B[49m\u001B[43m,\u001B[49m\n\u001B[1;32m   3779\u001B[0m \u001B[43m    \u001B[49m\u001B[43mquoting\u001B[49m\u001B[38;5;241;43m=\u001B[39;49m\u001B[43mquoting\u001B[49m\u001B[43m,\u001B[49m\n\u001B[1;32m   3780\u001B[0m \u001B[43m    \u001B[49m\u001B[43mcolumns\u001B[49m\u001B[38;5;241;43m=\u001B[39;49m\u001B[43mcolumns\u001B[49m\u001B[43m,\u001B[49m\n\u001B[1;32m   3781\u001B[0m \u001B[43m    \u001B[49m\u001B[43mindex_label\u001B[49m\u001B[38;5;241;43m=\u001B[39;49m\u001B[43mindex_label\u001B[49m\u001B[43m,\u001B[49m\n\u001B[1;32m   3782\u001B[0m \u001B[43m    \u001B[49m\u001B[43mmode\u001B[49m\u001B[38;5;241;43m=\u001B[39;49m\u001B[43mmode\u001B[49m\u001B[43m,\u001B[49m\n\u001B[1;32m   3783\u001B[0m \u001B[43m    \u001B[49m\u001B[43mchunksize\u001B[49m\u001B[38;5;241;43m=\u001B[39;49m\u001B[43mchunksize\u001B[49m\u001B[43m,\u001B[49m\n\u001B[1;32m   3784\u001B[0m \u001B[43m    \u001B[49m\u001B[43mquotechar\u001B[49m\u001B[38;5;241;43m=\u001B[39;49m\u001B[43mquotechar\u001B[49m\u001B[43m,\u001B[49m\n\u001B[1;32m   3785\u001B[0m \u001B[43m    \u001B[49m\u001B[43mdate_format\u001B[49m\u001B[38;5;241;43m=\u001B[39;49m\u001B[43mdate_format\u001B[49m\u001B[43m,\u001B[49m\n\u001B[1;32m   3786\u001B[0m \u001B[43m    \u001B[49m\u001B[43mdoublequote\u001B[49m\u001B[38;5;241;43m=\u001B[39;49m\u001B[43mdoublequote\u001B[49m\u001B[43m,\u001B[49m\n\u001B[1;32m   3787\u001B[0m \u001B[43m    \u001B[49m\u001B[43mescapechar\u001B[49m\u001B[38;5;241;43m=\u001B[39;49m\u001B[43mescapechar\u001B[49m\u001B[43m,\u001B[49m\n\u001B[1;32m   3788\u001B[0m \u001B[43m    \u001B[49m\u001B[43mstorage_options\u001B[49m\u001B[38;5;241;43m=\u001B[39;49m\u001B[43mstorage_options\u001B[49m\u001B[43m,\u001B[49m\n\u001B[1;32m   3789\u001B[0m \u001B[43m\u001B[49m\u001B[43m)\u001B[49m\n",
      "File \u001B[0;32m/opt/anaconda3/envs/nba-analytics/lib/python3.8/site-packages/pandas/io/formats/format.py:1186\u001B[0m, in \u001B[0;36mDataFrameRenderer.to_csv\u001B[0;34m(self, path_or_buf, encoding, sep, columns, index_label, mode, compression, quoting, quotechar, lineterminator, chunksize, date_format, doublequote, escapechar, errors, storage_options)\u001B[0m\n\u001B[1;32m   1165\u001B[0m     created_buffer \u001B[38;5;241m=\u001B[39m \u001B[38;5;28;01mFalse\u001B[39;00m\n\u001B[1;32m   1167\u001B[0m csv_formatter \u001B[38;5;241m=\u001B[39m CSVFormatter(\n\u001B[1;32m   1168\u001B[0m     path_or_buf\u001B[38;5;241m=\u001B[39mpath_or_buf,\n\u001B[1;32m   1169\u001B[0m     lineterminator\u001B[38;5;241m=\u001B[39mlineterminator,\n\u001B[0;32m   (...)\u001B[0m\n\u001B[1;32m   1184\u001B[0m     formatter\u001B[38;5;241m=\u001B[39m\u001B[38;5;28mself\u001B[39m\u001B[38;5;241m.\u001B[39mfmt,\n\u001B[1;32m   1185\u001B[0m )\n\u001B[0;32m-> 1186\u001B[0m \u001B[43mcsv_formatter\u001B[49m\u001B[38;5;241;43m.\u001B[39;49m\u001B[43msave\u001B[49m\u001B[43m(\u001B[49m\u001B[43m)\u001B[49m\n\u001B[1;32m   1188\u001B[0m \u001B[38;5;28;01mif\u001B[39;00m created_buffer:\n\u001B[1;32m   1189\u001B[0m     \u001B[38;5;28;01massert\u001B[39;00m \u001B[38;5;28misinstance\u001B[39m(path_or_buf, StringIO)\n",
      "File \u001B[0;32m/opt/anaconda3/envs/nba-analytics/lib/python3.8/site-packages/pandas/io/formats/csvs.py:240\u001B[0m, in \u001B[0;36mCSVFormatter.save\u001B[0;34m(self)\u001B[0m\n\u001B[1;32m    236\u001B[0m \u001B[38;5;250m\u001B[39m\u001B[38;5;124;03m\"\"\"\u001B[39;00m\n\u001B[1;32m    237\u001B[0m \u001B[38;5;124;03mCreate the writer & save.\u001B[39;00m\n\u001B[1;32m    238\u001B[0m \u001B[38;5;124;03m\"\"\"\u001B[39;00m\n\u001B[1;32m    239\u001B[0m \u001B[38;5;66;03m# apply compression and byte/text conversion\u001B[39;00m\n\u001B[0;32m--> 240\u001B[0m \u001B[38;5;28;01mwith\u001B[39;00m \u001B[43mget_handle\u001B[49m\u001B[43m(\u001B[49m\n\u001B[1;32m    241\u001B[0m \u001B[43m    \u001B[49m\u001B[38;5;28;43mself\u001B[39;49m\u001B[38;5;241;43m.\u001B[39;49m\u001B[43mfilepath_or_buffer\u001B[49m\u001B[43m,\u001B[49m\n\u001B[1;32m    242\u001B[0m \u001B[43m    \u001B[49m\u001B[38;5;28;43mself\u001B[39;49m\u001B[38;5;241;43m.\u001B[39;49m\u001B[43mmode\u001B[49m\u001B[43m,\u001B[49m\n\u001B[1;32m    243\u001B[0m \u001B[43m    \u001B[49m\u001B[43mencoding\u001B[49m\u001B[38;5;241;43m=\u001B[39;49m\u001B[38;5;28;43mself\u001B[39;49m\u001B[38;5;241;43m.\u001B[39;49m\u001B[43mencoding\u001B[49m\u001B[43m,\u001B[49m\n\u001B[1;32m    244\u001B[0m \u001B[43m    \u001B[49m\u001B[43merrors\u001B[49m\u001B[38;5;241;43m=\u001B[39;49m\u001B[38;5;28;43mself\u001B[39;49m\u001B[38;5;241;43m.\u001B[39;49m\u001B[43merrors\u001B[49m\u001B[43m,\u001B[49m\n\u001B[1;32m    245\u001B[0m \u001B[43m    \u001B[49m\u001B[43mcompression\u001B[49m\u001B[38;5;241;43m=\u001B[39;49m\u001B[38;5;28;43mself\u001B[39;49m\u001B[38;5;241;43m.\u001B[39;49m\u001B[43mcompression\u001B[49m\u001B[43m,\u001B[49m\n\u001B[1;32m    246\u001B[0m \u001B[43m    \u001B[49m\u001B[43mstorage_options\u001B[49m\u001B[38;5;241;43m=\u001B[39;49m\u001B[38;5;28;43mself\u001B[39;49m\u001B[38;5;241;43m.\u001B[39;49m\u001B[43mstorage_options\u001B[49m\u001B[43m,\u001B[49m\n\u001B[1;32m    247\u001B[0m \u001B[43m\u001B[49m\u001B[43m)\u001B[49m \u001B[38;5;28;01mas\u001B[39;00m handles:\n\u001B[1;32m    248\u001B[0m     \u001B[38;5;66;03m# Note: self.encoding is irrelevant here\u001B[39;00m\n\u001B[1;32m    249\u001B[0m     \u001B[38;5;28mself\u001B[39m\u001B[38;5;241m.\u001B[39mwriter \u001B[38;5;241m=\u001B[39m csvlib\u001B[38;5;241m.\u001B[39mwriter(\n\u001B[1;32m    250\u001B[0m         handles\u001B[38;5;241m.\u001B[39mhandle,\n\u001B[1;32m    251\u001B[0m         lineterminator\u001B[38;5;241m=\u001B[39m\u001B[38;5;28mself\u001B[39m\u001B[38;5;241m.\u001B[39mlineterminator,\n\u001B[0;32m   (...)\u001B[0m\n\u001B[1;32m    256\u001B[0m         quotechar\u001B[38;5;241m=\u001B[39m\u001B[38;5;28mself\u001B[39m\u001B[38;5;241m.\u001B[39mquotechar,\n\u001B[1;32m    257\u001B[0m     )\n\u001B[1;32m    259\u001B[0m     \u001B[38;5;28mself\u001B[39m\u001B[38;5;241m.\u001B[39m_save()\n",
      "File \u001B[0;32m/opt/anaconda3/envs/nba-analytics/lib/python3.8/site-packages/pandas/io/common.py:737\u001B[0m, in \u001B[0;36mget_handle\u001B[0;34m(path_or_buf, mode, encoding, compression, memory_map, is_text, errors, storage_options)\u001B[0m\n\u001B[1;32m    735\u001B[0m \u001B[38;5;66;03m# Only for write methods\u001B[39;00m\n\u001B[1;32m    736\u001B[0m \u001B[38;5;28;01mif\u001B[39;00m \u001B[38;5;124m\"\u001B[39m\u001B[38;5;124mr\u001B[39m\u001B[38;5;124m\"\u001B[39m \u001B[38;5;129;01mnot\u001B[39;00m \u001B[38;5;129;01min\u001B[39;00m mode \u001B[38;5;129;01mand\u001B[39;00m is_path:\n\u001B[0;32m--> 737\u001B[0m     \u001B[43mcheck_parent_directory\u001B[49m\u001B[43m(\u001B[49m\u001B[38;5;28;43mstr\u001B[39;49m\u001B[43m(\u001B[49m\u001B[43mhandle\u001B[49m\u001B[43m)\u001B[49m\u001B[43m)\u001B[49m\n\u001B[1;32m    739\u001B[0m \u001B[38;5;28;01mif\u001B[39;00m compression:\n\u001B[1;32m    740\u001B[0m     \u001B[38;5;28;01mif\u001B[39;00m compression \u001B[38;5;241m!=\u001B[39m \u001B[38;5;124m\"\u001B[39m\u001B[38;5;124mzstd\u001B[39m\u001B[38;5;124m\"\u001B[39m:\n\u001B[1;32m    741\u001B[0m         \u001B[38;5;66;03m# compression libraries do not like an explicit text-mode\u001B[39;00m\n",
      "File \u001B[0;32m/opt/anaconda3/envs/nba-analytics/lib/python3.8/site-packages/pandas/io/common.py:600\u001B[0m, in \u001B[0;36mcheck_parent_directory\u001B[0;34m(path)\u001B[0m\n\u001B[1;32m    598\u001B[0m parent \u001B[38;5;241m=\u001B[39m Path(path)\u001B[38;5;241m.\u001B[39mparent\n\u001B[1;32m    599\u001B[0m \u001B[38;5;28;01mif\u001B[39;00m \u001B[38;5;129;01mnot\u001B[39;00m parent\u001B[38;5;241m.\u001B[39mis_dir():\n\u001B[0;32m--> 600\u001B[0m     \u001B[38;5;28;01mraise\u001B[39;00m \u001B[38;5;167;01mOSError\u001B[39;00m(\u001B[38;5;124mrf\u001B[39m\u001B[38;5;124m\"\u001B[39m\u001B[38;5;124mCannot save file into a non-existent directory: \u001B[39m\u001B[38;5;124m'\u001B[39m\u001B[38;5;132;01m{\u001B[39;00mparent\u001B[38;5;132;01m}\u001B[39;00m\u001B[38;5;124m'\u001B[39m\u001B[38;5;124m\"\u001B[39m)\n",
      "\u001B[0;31mOSError\u001B[0m: Cannot save file into a non-existent directory: '../../data/interim'"
     ]
    }
   ],
   "execution_count": 5
  },
  {
   "metadata": {},
   "cell_type": "code",
   "source": [
    "#pca_model_path = '../models'\n",
    "#df = pd.read_csv('../data/processed/player_data_clean.csv')\n",
    "#df = agg_by_pos(df, team_df='../data/interim/NBA_team_stats_1979-2024_clean.csv', save_file=False, use_pca=False)"
   ],
   "id": "e041e31122cc2648",
   "outputs": [],
   "execution_count": null
  },
  {
   "metadata": {
    "ExecuteTime": {
     "end_time": "2024-08-05T18:21:12.872132Z",
     "start_time": "2024-08-05T18:21:12.847411Z"
    }
   },
   "cell_type": "code",
   "source": "df = pd.read_csv('../data/processed/roster_stats.csv')",
   "id": "80198c6582fd61f8",
   "outputs": [],
   "execution_count": 6
  },
  {
   "metadata": {
    "ExecuteTime": {
     "end_time": "2024-08-05T18:21:37.379739Z",
     "start_time": "2024-08-05T18:21:37.366Z"
    }
   },
   "cell_type": "code",
   "source": "df.head()",
   "id": "f40c9f786889054",
   "outputs": [
    {
     "data": {
      "text/plain": [
       "  full_season   tm  pos_PG_fg_per_100_poss  pos_PG_fga_per_100_poss  \\\n",
       "0     1997-98  BOS                7.260762                17.634528   \n",
       "1     1997-98  CHH                7.210241                15.574443   \n",
       "2     1997-98  CHI                5.968318                13.870941   \n",
       "3     1997-98  CLE                4.000000                 8.200000   \n",
       "4     1997-98  DAL                6.590216                17.010461   \n",
       "\n",
       "   pos_PG_x3p_per_100_poss  pos_PG_x3pa_per_100_poss  pos_PG_x2p_per_100_poss  \\\n",
       "0                 2.348459                  6.420697                 4.870058   \n",
       "1                 1.357956                  4.001975                 5.852285   \n",
       "2                 1.464821                  4.228767                 4.503498   \n",
       "3                 1.100000                  2.500000                 3.000000   \n",
       "4                 2.510403                  6.967061                 4.090458   \n",
       "\n",
       "   pos_PG_x2pa_per_100_poss  pos_PG_ft_per_100_poss  pos_PG_fta_per_100_poss  \\\n",
       "0                 11.213831                4.594588                 5.578351   \n",
       "1                 11.572468                3.628197                 4.573456   \n",
       "2                  9.708744                2.167735                 3.068318   \n",
       "3                  5.700000                3.000000                 3.200000   \n",
       "4                 10.037456                2.986298                 3.922465   \n",
       "\n",
       "   ...  pos_C_dws  pos_C_ws  pos_C_ws_48  pos_C_obpm  pos_C_dbpm  pos_C_bpm  \\\n",
       "0  ...   1.246365  2.444382     0.103279   -3.005288   -0.304627  -3.309914   \n",
       "1  ...   3.583232  6.709271     0.121801    0.385968    1.777406   2.071935   \n",
       "2  ...   0.717859  1.224547     0.077017   -3.796097   -0.156843  -3.929552   \n",
       "3  ...   3.708125  6.085096     0.126054   -1.569982    0.053047  -1.579689   \n",
       "4  ...   1.660139  1.539976     0.052147   -2.863951    0.772142  -2.057897   \n",
       "\n",
       "   pos_C_vorp   Season  Team   W/L%  \n",
       "0   -0.352974  1997-98   BOS  0.439  \n",
       "1    3.017477  1997-98   CHH  0.622  \n",
       "2   -0.357671  1997-98   CHI  0.756  \n",
       "3    0.796386  1997-98   CLE  0.573  \n",
       "4    0.151702  1997-98   DAL  0.244  \n",
       "\n",
       "[5 rows x 300 columns]"
      ],
      "text/html": [
       "<div>\n",
       "<style scoped>\n",
       "    .dataframe tbody tr th:only-of-type {\n",
       "        vertical-align: middle;\n",
       "    }\n",
       "\n",
       "    .dataframe tbody tr th {\n",
       "        vertical-align: top;\n",
       "    }\n",
       "\n",
       "    .dataframe thead th {\n",
       "        text-align: right;\n",
       "    }\n",
       "</style>\n",
       "<table border=\"1\" class=\"dataframe\">\n",
       "  <thead>\n",
       "    <tr style=\"text-align: right;\">\n",
       "      <th></th>\n",
       "      <th>full_season</th>\n",
       "      <th>tm</th>\n",
       "      <th>pos_PG_fg_per_100_poss</th>\n",
       "      <th>pos_PG_fga_per_100_poss</th>\n",
       "      <th>pos_PG_x3p_per_100_poss</th>\n",
       "      <th>pos_PG_x3pa_per_100_poss</th>\n",
       "      <th>pos_PG_x2p_per_100_poss</th>\n",
       "      <th>pos_PG_x2pa_per_100_poss</th>\n",
       "      <th>pos_PG_ft_per_100_poss</th>\n",
       "      <th>pos_PG_fta_per_100_poss</th>\n",
       "      <th>...</th>\n",
       "      <th>pos_C_dws</th>\n",
       "      <th>pos_C_ws</th>\n",
       "      <th>pos_C_ws_48</th>\n",
       "      <th>pos_C_obpm</th>\n",
       "      <th>pos_C_dbpm</th>\n",
       "      <th>pos_C_bpm</th>\n",
       "      <th>pos_C_vorp</th>\n",
       "      <th>Season</th>\n",
       "      <th>Team</th>\n",
       "      <th>W/L%</th>\n",
       "    </tr>\n",
       "  </thead>\n",
       "  <tbody>\n",
       "    <tr>\n",
       "      <th>0</th>\n",
       "      <td>1997-98</td>\n",
       "      <td>BOS</td>\n",
       "      <td>7.260762</td>\n",
       "      <td>17.634528</td>\n",
       "      <td>2.348459</td>\n",
       "      <td>6.420697</td>\n",
       "      <td>4.870058</td>\n",
       "      <td>11.213831</td>\n",
       "      <td>4.594588</td>\n",
       "      <td>5.578351</td>\n",
       "      <td>...</td>\n",
       "      <td>1.246365</td>\n",
       "      <td>2.444382</td>\n",
       "      <td>0.103279</td>\n",
       "      <td>-3.005288</td>\n",
       "      <td>-0.304627</td>\n",
       "      <td>-3.309914</td>\n",
       "      <td>-0.352974</td>\n",
       "      <td>1997-98</td>\n",
       "      <td>BOS</td>\n",
       "      <td>0.439</td>\n",
       "    </tr>\n",
       "    <tr>\n",
       "      <th>1</th>\n",
       "      <td>1997-98</td>\n",
       "      <td>CHH</td>\n",
       "      <td>7.210241</td>\n",
       "      <td>15.574443</td>\n",
       "      <td>1.357956</td>\n",
       "      <td>4.001975</td>\n",
       "      <td>5.852285</td>\n",
       "      <td>11.572468</td>\n",
       "      <td>3.628197</td>\n",
       "      <td>4.573456</td>\n",
       "      <td>...</td>\n",
       "      <td>3.583232</td>\n",
       "      <td>6.709271</td>\n",
       "      <td>0.121801</td>\n",
       "      <td>0.385968</td>\n",
       "      <td>1.777406</td>\n",
       "      <td>2.071935</td>\n",
       "      <td>3.017477</td>\n",
       "      <td>1997-98</td>\n",
       "      <td>CHH</td>\n",
       "      <td>0.622</td>\n",
       "    </tr>\n",
       "    <tr>\n",
       "      <th>2</th>\n",
       "      <td>1997-98</td>\n",
       "      <td>CHI</td>\n",
       "      <td>5.968318</td>\n",
       "      <td>13.870941</td>\n",
       "      <td>1.464821</td>\n",
       "      <td>4.228767</td>\n",
       "      <td>4.503498</td>\n",
       "      <td>9.708744</td>\n",
       "      <td>2.167735</td>\n",
       "      <td>3.068318</td>\n",
       "      <td>...</td>\n",
       "      <td>0.717859</td>\n",
       "      <td>1.224547</td>\n",
       "      <td>0.077017</td>\n",
       "      <td>-3.796097</td>\n",
       "      <td>-0.156843</td>\n",
       "      <td>-3.929552</td>\n",
       "      <td>-0.357671</td>\n",
       "      <td>1997-98</td>\n",
       "      <td>CHI</td>\n",
       "      <td>0.756</td>\n",
       "    </tr>\n",
       "    <tr>\n",
       "      <th>3</th>\n",
       "      <td>1997-98</td>\n",
       "      <td>CLE</td>\n",
       "      <td>4.000000</td>\n",
       "      <td>8.200000</td>\n",
       "      <td>1.100000</td>\n",
       "      <td>2.500000</td>\n",
       "      <td>3.000000</td>\n",
       "      <td>5.700000</td>\n",
       "      <td>3.000000</td>\n",
       "      <td>3.200000</td>\n",
       "      <td>...</td>\n",
       "      <td>3.708125</td>\n",
       "      <td>6.085096</td>\n",
       "      <td>0.126054</td>\n",
       "      <td>-1.569982</td>\n",
       "      <td>0.053047</td>\n",
       "      <td>-1.579689</td>\n",
       "      <td>0.796386</td>\n",
       "      <td>1997-98</td>\n",
       "      <td>CLE</td>\n",
       "      <td>0.573</td>\n",
       "    </tr>\n",
       "    <tr>\n",
       "      <th>4</th>\n",
       "      <td>1997-98</td>\n",
       "      <td>DAL</td>\n",
       "      <td>6.590216</td>\n",
       "      <td>17.010461</td>\n",
       "      <td>2.510403</td>\n",
       "      <td>6.967061</td>\n",
       "      <td>4.090458</td>\n",
       "      <td>10.037456</td>\n",
       "      <td>2.986298</td>\n",
       "      <td>3.922465</td>\n",
       "      <td>...</td>\n",
       "      <td>1.660139</td>\n",
       "      <td>1.539976</td>\n",
       "      <td>0.052147</td>\n",
       "      <td>-2.863951</td>\n",
       "      <td>0.772142</td>\n",
       "      <td>-2.057897</td>\n",
       "      <td>0.151702</td>\n",
       "      <td>1997-98</td>\n",
       "      <td>DAL</td>\n",
       "      <td>0.244</td>\n",
       "    </tr>\n",
       "  </tbody>\n",
       "</table>\n",
       "<p>5 rows × 300 columns</p>\n",
       "</div>"
      ]
     },
     "execution_count": 8,
     "metadata": {},
     "output_type": "execute_result"
    }
   ],
   "execution_count": 8
  },
  {
   "metadata": {},
   "cell_type": "markdown",
   "source": "## Simple Linear Regression",
   "id": "5275446646cbc1e0"
  },
  {
   "metadata": {
    "ExecuteTime": {
     "end_time": "2024-08-05T18:21:16.725994Z",
     "start_time": "2024-08-05T18:21:15.995387Z"
    }
   },
   "cell_type": "code",
   "source": [
    "X, y = df.drop(columns='W%'), df['W%']\n",
    "X_train, X_test, y_train, y_test = train_test_split(X, y, test_size=0.2, random_state=0)\n",
    "lin_reg = LinearRegression().fit(X_train, y_train)\n",
    "y_pred = lin_reg.predict(X_test)\n",
    "mse = mean_squared_error(y_test, y_pred)\n",
    "r2 = r2_score(y_test, y_pred)\n",
    "\n",
    "print('Test Scores')\n",
    "print(f'Mean Squared Error: {mse}')\n",
    "print(f'R^2 Score: {r2}')"
   ],
   "id": "4b1caaa8c5da1429",
   "outputs": [
    {
     "ename": "KeyError",
     "evalue": "\"['W%'] not found in axis\"",
     "output_type": "error",
     "traceback": [
      "\u001B[0;31m---------------------------------------------------------------------------\u001B[0m",
      "\u001B[0;31mKeyError\u001B[0m                                  Traceback (most recent call last)",
      "Cell \u001B[0;32mIn[7], line 1\u001B[0m\n\u001B[0;32m----> 1\u001B[0m X, y \u001B[38;5;241m=\u001B[39m \u001B[43mdf\u001B[49m\u001B[38;5;241;43m.\u001B[39;49m\u001B[43mdrop\u001B[49m\u001B[43m(\u001B[49m\u001B[43mcolumns\u001B[49m\u001B[38;5;241;43m=\u001B[39;49m\u001B[38;5;124;43m'\u001B[39;49m\u001B[38;5;124;43mW\u001B[39;49m\u001B[38;5;124;43m%\u001B[39;49m\u001B[38;5;124;43m'\u001B[39;49m\u001B[43m)\u001B[49m, df[\u001B[38;5;124m'\u001B[39m\u001B[38;5;124mW\u001B[39m\u001B[38;5;124m%\u001B[39m\u001B[38;5;124m'\u001B[39m]\n\u001B[1;32m      2\u001B[0m X_train, X_test, y_train, y_test \u001B[38;5;241m=\u001B[39m train_test_split(X, y, test_size\u001B[38;5;241m=\u001B[39m\u001B[38;5;241m0.2\u001B[39m, random_state\u001B[38;5;241m=\u001B[39m\u001B[38;5;241m0\u001B[39m)\n\u001B[1;32m      3\u001B[0m lin_reg \u001B[38;5;241m=\u001B[39m LinearRegression()\u001B[38;5;241m.\u001B[39mfit(X_train, y_train)\n",
      "File \u001B[0;32m/opt/anaconda3/envs/nba-analytics/lib/python3.8/site-packages/pandas/core/frame.py:5258\u001B[0m, in \u001B[0;36mDataFrame.drop\u001B[0;34m(self, labels, axis, index, columns, level, inplace, errors)\u001B[0m\n\u001B[1;32m   5110\u001B[0m \u001B[38;5;28;01mdef\u001B[39;00m \u001B[38;5;21mdrop\u001B[39m(\n\u001B[1;32m   5111\u001B[0m     \u001B[38;5;28mself\u001B[39m,\n\u001B[1;32m   5112\u001B[0m     labels: IndexLabel \u001B[38;5;241m=\u001B[39m \u001B[38;5;28;01mNone\u001B[39;00m,\n\u001B[0;32m   (...)\u001B[0m\n\u001B[1;32m   5119\u001B[0m     errors: IgnoreRaise \u001B[38;5;241m=\u001B[39m \u001B[38;5;124m\"\u001B[39m\u001B[38;5;124mraise\u001B[39m\u001B[38;5;124m\"\u001B[39m,\n\u001B[1;32m   5120\u001B[0m ) \u001B[38;5;241m-\u001B[39m\u001B[38;5;241m>\u001B[39m DataFrame \u001B[38;5;241m|\u001B[39m \u001B[38;5;28;01mNone\u001B[39;00m:\n\u001B[1;32m   5121\u001B[0m \u001B[38;5;250m    \u001B[39m\u001B[38;5;124;03m\"\"\"\u001B[39;00m\n\u001B[1;32m   5122\u001B[0m \u001B[38;5;124;03m    Drop specified labels from rows or columns.\u001B[39;00m\n\u001B[1;32m   5123\u001B[0m \n\u001B[0;32m   (...)\u001B[0m\n\u001B[1;32m   5256\u001B[0m \u001B[38;5;124;03m            weight  1.0     0.8\u001B[39;00m\n\u001B[1;32m   5257\u001B[0m \u001B[38;5;124;03m    \"\"\"\u001B[39;00m\n\u001B[0;32m-> 5258\u001B[0m     \u001B[38;5;28;01mreturn\u001B[39;00m \u001B[38;5;28;43msuper\u001B[39;49m\u001B[43m(\u001B[49m\u001B[43m)\u001B[49m\u001B[38;5;241;43m.\u001B[39;49m\u001B[43mdrop\u001B[49m\u001B[43m(\u001B[49m\n\u001B[1;32m   5259\u001B[0m \u001B[43m        \u001B[49m\u001B[43mlabels\u001B[49m\u001B[38;5;241;43m=\u001B[39;49m\u001B[43mlabels\u001B[49m\u001B[43m,\u001B[49m\n\u001B[1;32m   5260\u001B[0m \u001B[43m        \u001B[49m\u001B[43maxis\u001B[49m\u001B[38;5;241;43m=\u001B[39;49m\u001B[43maxis\u001B[49m\u001B[43m,\u001B[49m\n\u001B[1;32m   5261\u001B[0m \u001B[43m        \u001B[49m\u001B[43mindex\u001B[49m\u001B[38;5;241;43m=\u001B[39;49m\u001B[43mindex\u001B[49m\u001B[43m,\u001B[49m\n\u001B[1;32m   5262\u001B[0m \u001B[43m        \u001B[49m\u001B[43mcolumns\u001B[49m\u001B[38;5;241;43m=\u001B[39;49m\u001B[43mcolumns\u001B[49m\u001B[43m,\u001B[49m\n\u001B[1;32m   5263\u001B[0m \u001B[43m        \u001B[49m\u001B[43mlevel\u001B[49m\u001B[38;5;241;43m=\u001B[39;49m\u001B[43mlevel\u001B[49m\u001B[43m,\u001B[49m\n\u001B[1;32m   5264\u001B[0m \u001B[43m        \u001B[49m\u001B[43minplace\u001B[49m\u001B[38;5;241;43m=\u001B[39;49m\u001B[43minplace\u001B[49m\u001B[43m,\u001B[49m\n\u001B[1;32m   5265\u001B[0m \u001B[43m        \u001B[49m\u001B[43merrors\u001B[49m\u001B[38;5;241;43m=\u001B[39;49m\u001B[43merrors\u001B[49m\u001B[43m,\u001B[49m\n\u001B[1;32m   5266\u001B[0m \u001B[43m    \u001B[49m\u001B[43m)\u001B[49m\n",
      "File \u001B[0;32m/opt/anaconda3/envs/nba-analytics/lib/python3.8/site-packages/pandas/core/generic.py:4549\u001B[0m, in \u001B[0;36mNDFrame.drop\u001B[0;34m(self, labels, axis, index, columns, level, inplace, errors)\u001B[0m\n\u001B[1;32m   4547\u001B[0m \u001B[38;5;28;01mfor\u001B[39;00m axis, labels \u001B[38;5;129;01min\u001B[39;00m axes\u001B[38;5;241m.\u001B[39mitems():\n\u001B[1;32m   4548\u001B[0m     \u001B[38;5;28;01mif\u001B[39;00m labels \u001B[38;5;129;01mis\u001B[39;00m \u001B[38;5;129;01mnot\u001B[39;00m \u001B[38;5;28;01mNone\u001B[39;00m:\n\u001B[0;32m-> 4549\u001B[0m         obj \u001B[38;5;241m=\u001B[39m \u001B[43mobj\u001B[49m\u001B[38;5;241;43m.\u001B[39;49m\u001B[43m_drop_axis\u001B[49m\u001B[43m(\u001B[49m\u001B[43mlabels\u001B[49m\u001B[43m,\u001B[49m\u001B[43m \u001B[49m\u001B[43maxis\u001B[49m\u001B[43m,\u001B[49m\u001B[43m \u001B[49m\u001B[43mlevel\u001B[49m\u001B[38;5;241;43m=\u001B[39;49m\u001B[43mlevel\u001B[49m\u001B[43m,\u001B[49m\u001B[43m \u001B[49m\u001B[43merrors\u001B[49m\u001B[38;5;241;43m=\u001B[39;49m\u001B[43merrors\u001B[49m\u001B[43m)\u001B[49m\n\u001B[1;32m   4551\u001B[0m \u001B[38;5;28;01mif\u001B[39;00m inplace:\n\u001B[1;32m   4552\u001B[0m     \u001B[38;5;28mself\u001B[39m\u001B[38;5;241m.\u001B[39m_update_inplace(obj)\n",
      "File \u001B[0;32m/opt/anaconda3/envs/nba-analytics/lib/python3.8/site-packages/pandas/core/generic.py:4591\u001B[0m, in \u001B[0;36mNDFrame._drop_axis\u001B[0;34m(self, labels, axis, level, errors, only_slice)\u001B[0m\n\u001B[1;32m   4589\u001B[0m         new_axis \u001B[38;5;241m=\u001B[39m axis\u001B[38;5;241m.\u001B[39mdrop(labels, level\u001B[38;5;241m=\u001B[39mlevel, errors\u001B[38;5;241m=\u001B[39merrors)\n\u001B[1;32m   4590\u001B[0m     \u001B[38;5;28;01melse\u001B[39;00m:\n\u001B[0;32m-> 4591\u001B[0m         new_axis \u001B[38;5;241m=\u001B[39m \u001B[43maxis\u001B[49m\u001B[38;5;241;43m.\u001B[39;49m\u001B[43mdrop\u001B[49m\u001B[43m(\u001B[49m\u001B[43mlabels\u001B[49m\u001B[43m,\u001B[49m\u001B[43m \u001B[49m\u001B[43merrors\u001B[49m\u001B[38;5;241;43m=\u001B[39;49m\u001B[43merrors\u001B[49m\u001B[43m)\u001B[49m\n\u001B[1;32m   4592\u001B[0m     indexer \u001B[38;5;241m=\u001B[39m axis\u001B[38;5;241m.\u001B[39mget_indexer(new_axis)\n\u001B[1;32m   4594\u001B[0m \u001B[38;5;66;03m# Case for non-unique axis\u001B[39;00m\n\u001B[1;32m   4595\u001B[0m \u001B[38;5;28;01melse\u001B[39;00m:\n",
      "File \u001B[0;32m/opt/anaconda3/envs/nba-analytics/lib/python3.8/site-packages/pandas/core/indexes/base.py:6699\u001B[0m, in \u001B[0;36mIndex.drop\u001B[0;34m(self, labels, errors)\u001B[0m\n\u001B[1;32m   6697\u001B[0m \u001B[38;5;28;01mif\u001B[39;00m mask\u001B[38;5;241m.\u001B[39many():\n\u001B[1;32m   6698\u001B[0m     \u001B[38;5;28;01mif\u001B[39;00m errors \u001B[38;5;241m!=\u001B[39m \u001B[38;5;124m\"\u001B[39m\u001B[38;5;124mignore\u001B[39m\u001B[38;5;124m\"\u001B[39m:\n\u001B[0;32m-> 6699\u001B[0m         \u001B[38;5;28;01mraise\u001B[39;00m \u001B[38;5;167;01mKeyError\u001B[39;00m(\u001B[38;5;124mf\u001B[39m\u001B[38;5;124m\"\u001B[39m\u001B[38;5;132;01m{\u001B[39;00m\u001B[38;5;28mlist\u001B[39m(labels[mask])\u001B[38;5;132;01m}\u001B[39;00m\u001B[38;5;124m not found in axis\u001B[39m\u001B[38;5;124m\"\u001B[39m)\n\u001B[1;32m   6700\u001B[0m     indexer \u001B[38;5;241m=\u001B[39m indexer[\u001B[38;5;241m~\u001B[39mmask]\n\u001B[1;32m   6701\u001B[0m \u001B[38;5;28;01mreturn\u001B[39;00m \u001B[38;5;28mself\u001B[39m\u001B[38;5;241m.\u001B[39mdelete(indexer)\n",
      "\u001B[0;31mKeyError\u001B[0m: \"['W%'] not found in axis\""
     ]
    }
   ],
   "execution_count": 7
  },
  {
   "metadata": {},
   "cell_type": "markdown",
   "source": "## Random Forest",
   "id": "f96dcd7ac436b97c"
  },
  {
   "metadata": {},
   "cell_type": "code",
   "source": [
    "rf_reg = RandomForestRegressor(random_state=41)\n",
    "rf_reg.fit(X_train, y_train)\n",
    "y_pred = rf_reg.predict(X_test)\n",
    "mse = mean_squared_error(y_test, y_pred)\n",
    "r2 = r2_score(y_test, y_pred)\n",
    "\n",
    "print('Test Scores')\n",
    "print(f'Mean Squared Error: {mse}')\n",
    "print(f'R^2 Score: {r2}')"
   ],
   "id": "733e4d2940bcc4a1",
   "outputs": [],
   "execution_count": null
  },
  {
   "metadata": {},
   "cell_type": "code",
   "source": [
    "y_train_pred = rf_reg.predict(X_train)\n",
    "mse = mean_squared_error(y_train, y_train_pred)\n",
    "r2 = r2_score(y_train, y_train_pred)\n",
    "\n",
    "print('Train Scores')\n",
    "print(f'Mean Squared Error: {mse}')\n",
    "print(f'R^2 Score: {r2}')"
   ],
   "id": "3d419b846a23973b",
   "outputs": [],
   "execution_count": null
  },
  {
   "metadata": {},
   "cell_type": "markdown",
   "source": "## Gradient Boosted Trees",
   "id": "53b8f58fa32f7d7d"
  },
  {
   "metadata": {},
   "cell_type": "code",
   "source": [
    "cat_reg = CatBoostRegressor(iterations=1000,\n",
    "                            learning_rate=0.01,\n",
    "                            depth=6, l2_leaf_reg=3,\n",
    "                            bagging_temperature=1,\n",
    "                            early_stopping_rounds=50,\n",
    "                            loss_function='RMSE',\n",
    "                            random_state=41,\n",
    "                            logging_level='Silent',\n",
    "                            allow_writing_files=False)\n",
    "cat_reg.fit(X_train, y_train)\n",
    "y_pred = cat_reg.predict(X_test)\n",
    "mse = mean_squared_error(y_test, y_pred)\n",
    "r2 = r2_score(y_test, y_pred)\n",
    "\n",
    "print('Test Scores')\n",
    "print(f'Mean Squared Error: {mse}')\n",
    "print(f'R^2 Score: {r2}')"
   ],
   "id": "2c99209b664214b3",
   "outputs": [],
   "execution_count": null
  },
  {
   "metadata": {},
   "cell_type": "code",
   "source": [
    "y_train_pred = cat_reg.predict(X_train)\n",
    "mse = mean_squared_error(y_train, y_train_pred)\n",
    "r2 = r2_score(y_train, y_train_pred)\n",
    "\n",
    "print('Train Scores')\n",
    "print(f'Mean Squared Error: {mse}')\n",
    "print(f'R^2 Score: {r2}')"
   ],
   "id": "2a46b3d16ad35791",
   "outputs": [],
   "execution_count": null
  },
  {
   "metadata": {},
   "cell_type": "code",
   "source": [
    "plt.scatter(y_test, y_pred)\n",
    "plt.xlabel('Actual W/L%')\n",
    "plt.ylabel('Predicted W/L%')\n",
    "plt.title('Actual vs Predicted W/L%')\n",
    "plt.plot([min(y_test), max(y_test)], [min(y_test), max(y_test)], color='red')\n",
    "plt.show()"
   ],
   "id": "9c6971bc63a2ee87",
   "outputs": [],
   "execution_count": null
  },
  {
   "metadata": {},
   "cell_type": "markdown",
   "source": "## Ridge Regression",
   "id": "bb367cdbe58f8bb2"
  },
  {
   "metadata": {},
   "cell_type": "code",
   "source": [
    "X, y = df.drop(columns='W%'), df['W%']\n",
    "X_train, X_test, y_train, y_test = train_test_split(X, y, test_size=0.2, random_state=0)\n",
    "ridge_reg = Ridge(alpha=10).fit(X_train, y_train)\n",
    "y_pred = ridge_reg.predict(X_test)\n",
    "mse = mean_squared_error(y_test, y_pred)\n",
    "r2 = r2_score(y_test, y_pred)\n",
    "\n",
    "print('Test Scores')\n",
    "print(f'Mean Squared Error: {mse}')\n",
    "print(f'R^2 Score: {r2}')"
   ],
   "id": "41c3166c0bdba831",
   "outputs": [],
   "execution_count": null
  },
  {
   "metadata": {},
   "cell_type": "markdown",
   "source": "# Alternate Training Set (Pazin's)",
   "id": "86463dc0fa70ea35"
  },
  {
   "metadata": {},
   "cell_type": "code",
   "source": [
    "data_path = '../data/interim/NBA_team_player_stats_Year_Adjusted.csv'\n",
    "df = pd.read_csv(data_path)\n",
    "X = df.drop(columns=['W/L%', 'Season', 'Team'])\n",
    "y = df['W/L%']"
   ],
   "id": "1ebaa21dcdd43785",
   "outputs": [],
   "execution_count": null
  },
  {
   "metadata": {},
   "cell_type": "markdown",
   "source": "## Ridge Regression GridSearchCV",
   "id": "2f7badd200c6fc45"
  },
  {
   "metadata": {},
   "cell_type": "code",
   "source": [
    "ridge_params = {'alpha': [1, 10, 100, 1000, 10000, 100000, 1000000]}\n",
    "ridge = Ridge()\n",
    "X_train, X_test, y_train, y_test = train_test_split(X, y, test_size=0.2, random_state=0)\n",
    "ridge_grid_search = GridSearchCV(ridge, ridge_params, cv=5, n_jobs=-1)\n",
    "ridge_grid_search.fit(X_train, y_train)"
   ],
   "id": "14345ee927ae6b92",
   "outputs": [],
   "execution_count": null
  },
  {
   "metadata": {},
   "cell_type": "code",
   "source": "ridge_grid_search.best_estimator_",
   "id": "d6835ac5ad7aa88d",
   "outputs": [],
   "execution_count": null
  },
  {
   "metadata": {},
   "cell_type": "code",
   "source": [
    "model = Ridge(alpha=10000, random_state=41)\n",
    "model.fit(X_train, y_train)\n",
    "y_pred = model.predict(X_test)\n",
    "mse = mean_squared_error(y_test, y_pred)\n",
    "r2 = r2_score(y_test, y_pred)\n",
    "\n",
    "print('Test Scores')\n",
    "print(f'Mean Squared Error: {mse}')\n",
    "print(f'R^2 Score: {r2}')\n",
    "\n",
    "y_train_pred = model.predict(X_train)\n",
    "mse = mean_squared_error(y_train, y_train_pred)\n",
    "r2 = r2_score(y_train, y_train_pred)\n",
    "\n",
    "print('Train Scores')\n",
    "print(f'Mean Squared Error: {mse}')\n",
    "print(f'R^2 Score: {r2}')\n",
    "\n",
    "joblib.dump(model, '../models/win_prediction.pkl')"
   ],
   "id": "3e9b3cf363778491",
   "outputs": [],
   "execution_count": null
  },
  {
   "metadata": {},
   "cell_type": "markdown",
   "source": "## GridSearch Boosted Trees",
   "id": "cb900775979dc608"
  },
  {
   "metadata": {},
   "cell_type": "code",
   "source": [
    "parameters = {\n",
    "    'learning_rate': [0.01, 0.1, 0.2],\n",
    "    'depth': [4, 6, 8, 10],\n",
    "    'iterations': [100, 200, 500],\n",
    "    'l2_leaf_reg': [1, 3, 5, 7],\n",
    "    'border_count': [32, 64, 128],\n",
    "    'bagging_temperature': [0, 1, 2, 3],\n",
    "    'random_strength': [1, 2, 5]\n",
    "}\n",
    "catboost_model = CatBoostRegressor(random_state=41, logging_level='Silent', allow_writing_files=False, loss_function='RMSE')\n",
    "catboost_gridsearch = GridSearchCV(estimator=catboost_model, param_grid=parameters, cv=3, n_jobs=-1, verbose=2)\n",
    "catboost_gridsearch.fit(X_train, y_train)\n",
    "\n",
    "best_params = catboost_gridsearch.best_params_\n",
    "best_model = catboost_gridsearch.best_estimator_\n",
    "\n",
    "print(f'Best Parameters: {best_params}')"
   ],
   "id": "e0a932cfe9ab8256",
   "outputs": [],
   "execution_count": null
  },
  {
   "metadata": {
    "ExecuteTime": {
     "end_time": "2024-08-05T18:22:12.074549Z",
     "start_time": "2024-08-05T18:22:12.038755Z"
    }
   },
   "cell_type": "code",
   "source": "training_df = pd.read_csv('../data/processed/roster_stats.csv')",
   "id": "d9b1932d2331b1a5",
   "outputs": [],
   "execution_count": 9
  },
  {
   "metadata": {
    "ExecuteTime": {
     "end_time": "2024-08-05T18:22:16.556825Z",
     "start_time": "2024-08-05T18:22:16.544972Z"
    }
   },
   "cell_type": "code",
   "source": "training_df.head()",
   "id": "c9046e991c3c8fe9",
   "outputs": [
    {
     "data": {
      "text/plain": [
       "  full_season   tm  pos_PG_fg_per_100_poss  pos_PG_fga_per_100_poss  \\\n",
       "0     1997-98  BOS                7.260762                17.634528   \n",
       "1     1997-98  CHH                7.210241                15.574443   \n",
       "2     1997-98  CHI                5.968318                13.870941   \n",
       "3     1997-98  CLE                4.000000                 8.200000   \n",
       "4     1997-98  DAL                6.590216                17.010461   \n",
       "\n",
       "   pos_PG_x3p_per_100_poss  pos_PG_x3pa_per_100_poss  pos_PG_x2p_per_100_poss  \\\n",
       "0                 2.348459                  6.420697                 4.870058   \n",
       "1                 1.357956                  4.001975                 5.852285   \n",
       "2                 1.464821                  4.228767                 4.503498   \n",
       "3                 1.100000                  2.500000                 3.000000   \n",
       "4                 2.510403                  6.967061                 4.090458   \n",
       "\n",
       "   pos_PG_x2pa_per_100_poss  pos_PG_ft_per_100_poss  pos_PG_fta_per_100_poss  \\\n",
       "0                 11.213831                4.594588                 5.578351   \n",
       "1                 11.572468                3.628197                 4.573456   \n",
       "2                  9.708744                2.167735                 3.068318   \n",
       "3                  5.700000                3.000000                 3.200000   \n",
       "4                 10.037456                2.986298                 3.922465   \n",
       "\n",
       "   ...  pos_C_dws  pos_C_ws  pos_C_ws_48  pos_C_obpm  pos_C_dbpm  pos_C_bpm  \\\n",
       "0  ...   1.246365  2.444382     0.103279   -3.005288   -0.304627  -3.309914   \n",
       "1  ...   3.583232  6.709271     0.121801    0.385968    1.777406   2.071935   \n",
       "2  ...   0.717859  1.224547     0.077017   -3.796097   -0.156843  -3.929552   \n",
       "3  ...   3.708125  6.085096     0.126054   -1.569982    0.053047  -1.579689   \n",
       "4  ...   1.660139  1.539976     0.052147   -2.863951    0.772142  -2.057897   \n",
       "\n",
       "   pos_C_vorp   Season  Team   W/L%  \n",
       "0   -0.352974  1997-98   BOS  0.439  \n",
       "1    3.017477  1997-98   CHH  0.622  \n",
       "2   -0.357671  1997-98   CHI  0.756  \n",
       "3    0.796386  1997-98   CLE  0.573  \n",
       "4    0.151702  1997-98   DAL  0.244  \n",
       "\n",
       "[5 rows x 300 columns]"
      ],
      "text/html": [
       "<div>\n",
       "<style scoped>\n",
       "    .dataframe tbody tr th:only-of-type {\n",
       "        vertical-align: middle;\n",
       "    }\n",
       "\n",
       "    .dataframe tbody tr th {\n",
       "        vertical-align: top;\n",
       "    }\n",
       "\n",
       "    .dataframe thead th {\n",
       "        text-align: right;\n",
       "    }\n",
       "</style>\n",
       "<table border=\"1\" class=\"dataframe\">\n",
       "  <thead>\n",
       "    <tr style=\"text-align: right;\">\n",
       "      <th></th>\n",
       "      <th>full_season</th>\n",
       "      <th>tm</th>\n",
       "      <th>pos_PG_fg_per_100_poss</th>\n",
       "      <th>pos_PG_fga_per_100_poss</th>\n",
       "      <th>pos_PG_x3p_per_100_poss</th>\n",
       "      <th>pos_PG_x3pa_per_100_poss</th>\n",
       "      <th>pos_PG_x2p_per_100_poss</th>\n",
       "      <th>pos_PG_x2pa_per_100_poss</th>\n",
       "      <th>pos_PG_ft_per_100_poss</th>\n",
       "      <th>pos_PG_fta_per_100_poss</th>\n",
       "      <th>...</th>\n",
       "      <th>pos_C_dws</th>\n",
       "      <th>pos_C_ws</th>\n",
       "      <th>pos_C_ws_48</th>\n",
       "      <th>pos_C_obpm</th>\n",
       "      <th>pos_C_dbpm</th>\n",
       "      <th>pos_C_bpm</th>\n",
       "      <th>pos_C_vorp</th>\n",
       "      <th>Season</th>\n",
       "      <th>Team</th>\n",
       "      <th>W/L%</th>\n",
       "    </tr>\n",
       "  </thead>\n",
       "  <tbody>\n",
       "    <tr>\n",
       "      <th>0</th>\n",
       "      <td>1997-98</td>\n",
       "      <td>BOS</td>\n",
       "      <td>7.260762</td>\n",
       "      <td>17.634528</td>\n",
       "      <td>2.348459</td>\n",
       "      <td>6.420697</td>\n",
       "      <td>4.870058</td>\n",
       "      <td>11.213831</td>\n",
       "      <td>4.594588</td>\n",
       "      <td>5.578351</td>\n",
       "      <td>...</td>\n",
       "      <td>1.246365</td>\n",
       "      <td>2.444382</td>\n",
       "      <td>0.103279</td>\n",
       "      <td>-3.005288</td>\n",
       "      <td>-0.304627</td>\n",
       "      <td>-3.309914</td>\n",
       "      <td>-0.352974</td>\n",
       "      <td>1997-98</td>\n",
       "      <td>BOS</td>\n",
       "      <td>0.439</td>\n",
       "    </tr>\n",
       "    <tr>\n",
       "      <th>1</th>\n",
       "      <td>1997-98</td>\n",
       "      <td>CHH</td>\n",
       "      <td>7.210241</td>\n",
       "      <td>15.574443</td>\n",
       "      <td>1.357956</td>\n",
       "      <td>4.001975</td>\n",
       "      <td>5.852285</td>\n",
       "      <td>11.572468</td>\n",
       "      <td>3.628197</td>\n",
       "      <td>4.573456</td>\n",
       "      <td>...</td>\n",
       "      <td>3.583232</td>\n",
       "      <td>6.709271</td>\n",
       "      <td>0.121801</td>\n",
       "      <td>0.385968</td>\n",
       "      <td>1.777406</td>\n",
       "      <td>2.071935</td>\n",
       "      <td>3.017477</td>\n",
       "      <td>1997-98</td>\n",
       "      <td>CHH</td>\n",
       "      <td>0.622</td>\n",
       "    </tr>\n",
       "    <tr>\n",
       "      <th>2</th>\n",
       "      <td>1997-98</td>\n",
       "      <td>CHI</td>\n",
       "      <td>5.968318</td>\n",
       "      <td>13.870941</td>\n",
       "      <td>1.464821</td>\n",
       "      <td>4.228767</td>\n",
       "      <td>4.503498</td>\n",
       "      <td>9.708744</td>\n",
       "      <td>2.167735</td>\n",
       "      <td>3.068318</td>\n",
       "      <td>...</td>\n",
       "      <td>0.717859</td>\n",
       "      <td>1.224547</td>\n",
       "      <td>0.077017</td>\n",
       "      <td>-3.796097</td>\n",
       "      <td>-0.156843</td>\n",
       "      <td>-3.929552</td>\n",
       "      <td>-0.357671</td>\n",
       "      <td>1997-98</td>\n",
       "      <td>CHI</td>\n",
       "      <td>0.756</td>\n",
       "    </tr>\n",
       "    <tr>\n",
       "      <th>3</th>\n",
       "      <td>1997-98</td>\n",
       "      <td>CLE</td>\n",
       "      <td>4.000000</td>\n",
       "      <td>8.200000</td>\n",
       "      <td>1.100000</td>\n",
       "      <td>2.500000</td>\n",
       "      <td>3.000000</td>\n",
       "      <td>5.700000</td>\n",
       "      <td>3.000000</td>\n",
       "      <td>3.200000</td>\n",
       "      <td>...</td>\n",
       "      <td>3.708125</td>\n",
       "      <td>6.085096</td>\n",
       "      <td>0.126054</td>\n",
       "      <td>-1.569982</td>\n",
       "      <td>0.053047</td>\n",
       "      <td>-1.579689</td>\n",
       "      <td>0.796386</td>\n",
       "      <td>1997-98</td>\n",
       "      <td>CLE</td>\n",
       "      <td>0.573</td>\n",
       "    </tr>\n",
       "    <tr>\n",
       "      <th>4</th>\n",
       "      <td>1997-98</td>\n",
       "      <td>DAL</td>\n",
       "      <td>6.590216</td>\n",
       "      <td>17.010461</td>\n",
       "      <td>2.510403</td>\n",
       "      <td>6.967061</td>\n",
       "      <td>4.090458</td>\n",
       "      <td>10.037456</td>\n",
       "      <td>2.986298</td>\n",
       "      <td>3.922465</td>\n",
       "      <td>...</td>\n",
       "      <td>1.660139</td>\n",
       "      <td>1.539976</td>\n",
       "      <td>0.052147</td>\n",
       "      <td>-2.863951</td>\n",
       "      <td>0.772142</td>\n",
       "      <td>-2.057897</td>\n",
       "      <td>0.151702</td>\n",
       "      <td>1997-98</td>\n",
       "      <td>DAL</td>\n",
       "      <td>0.244</td>\n",
       "    </tr>\n",
       "  </tbody>\n",
       "</table>\n",
       "<p>5 rows × 300 columns</p>\n",
       "</div>"
      ]
     },
     "execution_count": 10,
     "metadata": {},
     "output_type": "execute_result"
    }
   ],
   "execution_count": 10
  },
  {
   "metadata": {
    "ExecuteTime": {
     "end_time": "2024-08-05T18:22:17.002404Z",
     "start_time": "2024-08-05T18:22:16.998628Z"
    }
   },
   "cell_type": "code",
   "source": [
    "X = training_df.drop(columns=['full_season', 'tm', 'Season', 'Team', 'W/L%'])\n",
    "y = training_df['W/L%']"
   ],
   "id": "8e33bc515d4949cf",
   "outputs": [],
   "execution_count": 11
  },
  {
   "metadata": {
    "ExecuteTime": {
     "end_time": "2024-08-05T18:22:17.122748Z",
     "start_time": "2024-08-05T18:22:17.003863Z"
    }
   },
   "cell_type": "code",
   "source": [
    "X_train, X_test, y_train, y_test = train_test_split(X, y, test_size=0.2, random_state=0)\n",
    "ridge_reg = Ridge(alpha=10000).fit(X_train, y_train)\n",
    "y_pred = ridge_reg.predict(X_test)\n",
    "mse = mean_squared_error(y_test, y_pred)\n",
    "r2 = r2_score(y_test, y_pred)\n",
    "\n",
    "print('Test Scores')\n",
    "print(f'Mean Squared Error: {mse}')\n",
    "print(f'R^2 Score: {r2}')"
   ],
   "id": "13bc3cf7cf89568b",
   "outputs": [
    {
     "name": "stdout",
     "output_type": "stream",
     "text": [
      "Test Scores\n",
      "Mean Squared Error: 0.010815828662251392\n",
      "R^2 Score: 0.4952393395285051\n"
     ]
    }
   ],
   "execution_count": 12
  },
  {
   "metadata": {
    "ExecuteTime": {
     "end_time": "2024-08-05T18:22:17.197790Z",
     "start_time": "2024-08-05T18:22:17.190494Z"
    }
   },
   "cell_type": "code",
   "source": "joblib.dump(ridge_reg, '../models/win_prediction.pkl')",
   "id": "f8fef7e9277ea4b1",
   "outputs": [
    {
     "data": {
      "text/plain": [
       "['../models/win_prediction.pkl']"
      ]
     },
     "execution_count": 13,
     "metadata": {},
     "output_type": "execute_result"
    }
   ],
   "execution_count": 13
  },
  {
   "metadata": {
    "ExecuteTime": {
     "end_time": "2024-08-05T18:22:17.421414Z",
     "start_time": "2024-08-05T18:22:17.402424Z"
    }
   },
   "cell_type": "code",
   "source": [
    "model = joblib.load('../models/win_prediction.pkl')\n",
    "y_pred = model.predict(X_test)\n",
    "mse = mean_squared_error(y_test, y_pred)\n",
    "r2 = r2_score(y_test, y_pred)\n",
    "\n",
    "print('Test Scores')\n",
    "print(f'Mean Squared Error: {mse}')\n",
    "print(f'R^2 Score: {r2}')"
   ],
   "id": "1efbfc70fc4ba0fe",
   "outputs": [
    {
     "name": "stdout",
     "output_type": "stream",
     "text": [
      "Test Scores\n",
      "Mean Squared Error: 0.010815828662251392\n",
      "R^2 Score: 0.4952393395285051\n"
     ]
    }
   ],
   "execution_count": 14
  },
  {
   "metadata": {
    "ExecuteTime": {
     "end_time": "2024-08-05T18:22:17.762943Z",
     "start_time": "2024-08-05T18:22:17.642626Z"
    }
   },
   "cell_type": "code",
   "source": [
    "plt.scatter(y_test, y_pred)\n",
    "plt.xlabel('Actual W/L%')\n",
    "plt.ylabel('Predicted W/L%')\n",
    "plt.title('Actual vs Predicted W/L%')\n",
    "plt.plot([min(y_test), max(y_test)], [min(y_test), max(y_test)], color='red')\n",
    "plt.show()"
   ],
   "id": "3d61fd787e4f0ff0",
   "outputs": [
    {
     "data": {
      "text/plain": [
       "<Figure size 640x480 with 1 Axes>"
      ],
      "image/png": "[encoded data removed]"
     },
     "metadata": {},
     "output_type": "display_data"
    }
   ],
   "execution_count": 15
  },
  {
   "metadata": {
    "ExecuteTime": {
     "end_time": "2024-08-05T18:26:34.069745Z",
     "start_time": "2024-08-05T18:26:34.065535Z"
    }
   },
   "cell_type": "code",
   "source": [
    "features = training_df.drop(columns=['full_season', 'tm', 'Season', 'Team', 'W/L%']).columns.to_list()\n",
    "importances = list(abs(model.coef_))\n",
    "feat_importance_df = pd.DataFrame({'Feature': features, 'Abs. Coeff.': importances})"
   ],
   "id": "88f7b2741bad1f66",
   "outputs": [],
   "execution_count": 22
  },
  {
   "metadata": {
    "ExecuteTime": {
     "end_time": "2024-08-05T18:27:29.055437Z",
     "start_time": "2024-08-05T18:27:29.048297Z"
    }
   },
   "cell_type": "code",
   "source": "feat_importance_df.sort_values('Abs. Coeff.', ascending=False)",
   "id": "1b71b982cfb8b26f",
   "outputs": [
    {
     "data": {
      "text/plain": [
       "                                 Feature   Abs. Coeff.\n",
       "17                          pos_PG_o_rtg  3.262650e-03\n",
       "77                          pos_SG_d_rtg  3.041538e-03\n",
       "18                          pos_PG_d_rtg  3.008731e-03\n",
       "195                         pos_SF_d_rtg  2.744912e-03\n",
       "136                         pos_PF_d_rtg  2.138771e-03\n",
       "..                                   ...           ...\n",
       "227                   pos_SF_usg_percent  9.059156e-07\n",
       "258   pos_C_percent_fga_from_x3_10_range  4.646910e-07\n",
       "205   pos_SF_fg_percent_from_x3_10_range  3.595410e-07\n",
       "203     pos_SF_fg_percent_from_x2p_range  1.271804e-07\n",
       "259  pos_C_percent_fga_from_x10_16_range  2.538836e-08\n",
       "\n",
       "[295 rows x 2 columns]"
      ],
      "text/html": [
       "<div>\n",
       "<style scoped>\n",
       "    .dataframe tbody tr th:only-of-type {\n",
       "        vertical-align: middle;\n",
       "    }\n",
       "\n",
       "    .dataframe tbody tr th {\n",
       "        vertical-align: top;\n",
       "    }\n",
       "\n",
       "    .dataframe thead th {\n",
       "        text-align: right;\n",
       "    }\n",
       "</style>\n",
       "<table border=\"1\" class=\"dataframe\">\n",
       "  <thead>\n",
       "    <tr style=\"text-align: right;\">\n",
       "      <th></th>\n",
       "      <th>Feature</th>\n",
       "      <th>Abs. Coeff.</th>\n",
       "    </tr>\n",
       "  </thead>\n",
       "  <tbody>\n",
       "    <tr>\n",
       "      <th>17</th>\n",
       "      <td>pos_PG_o_rtg</td>\n",
       "      <td>3.262650e-03</td>\n",
       "    </tr>\n",
       "    <tr>\n",
       "      <th>77</th>\n",
       "      <td>pos_SG_d_rtg</td>\n",
       "      <td>3.041538e-03</td>\n",
       "    </tr>\n",
       "    <tr>\n",
       "      <th>18</th>\n",
       "      <td>pos_PG_d_rtg</td>\n",
       "      <td>3.008731e-03</td>\n",
       "    </tr>\n",
       "    <tr>\n",
       "      <th>195</th>\n",
       "      <td>pos_SF_d_rtg</td>\n",
       "      <td>2.744912e-03</td>\n",
       "    </tr>\n",
       "    <tr>\n",
       "      <th>136</th>\n",
       "      <td>pos_PF_d_rtg</td>\n",
       "      <td>2.138771e-03</td>\n",
       "    </tr>\n",
       "    <tr>\n",
       "      <th>...</th>\n",
       "      <td>...</td>\n",
       "      <td>...</td>\n",
       "    </tr>\n",
       "    <tr>\n",
       "      <th>227</th>\n",
       "      <td>pos_SF_usg_percent</td>\n",
       "      <td>9.059156e-07</td>\n",
       "    </tr>\n",
       "    <tr>\n",
       "      <th>258</th>\n",
       "      <td>pos_C_percent_fga_from_x3_10_range</td>\n",
       "      <td>4.646910e-07</td>\n",
       "    </tr>\n",
       "    <tr>\n",
       "      <th>205</th>\n",
       "      <td>pos_SF_fg_percent_from_x3_10_range</td>\n",
       "      <td>3.595410e-07</td>\n",
       "    </tr>\n",
       "    <tr>\n",
       "      <th>203</th>\n",
       "      <td>pos_SF_fg_percent_from_x2p_range</td>\n",
       "      <td>1.271804e-07</td>\n",
       "    </tr>\n",
       "    <tr>\n",
       "      <th>259</th>\n",
       "      <td>pos_C_percent_fga_from_x10_16_range</td>\n",
       "      <td>2.538836e-08</td>\n",
       "    </tr>\n",
       "  </tbody>\n",
       "</table>\n",
       "<p>295 rows × 2 columns</p>\n",
       "</div>"
      ]
     },
     "execution_count": 24,
     "metadata": {},
     "output_type": "execute_result"
    }
   ],
   "execution_count": 24
  },
  {
   "metadata": {},
   "cell_type": "markdown",
   "source": "## Lasso Regression (L1 Regularization)",
   "id": "1ca5d42f35848aee"
  },
  {
   "metadata": {
    "ExecuteTime": {
     "end_time": "2024-08-05T18:38:19.480938Z",
     "start_time": "2024-08-05T18:38:19.388351Z"
    }
   },
   "cell_type": "code",
   "source": [
    "X_train, X_test, y_train, y_test = train_test_split(X, y, test_size=0.2, random_state=0)\n",
    "lasso_reg = Lasso(alpha=0.001).fit(X_train, y_train)\n",
    "y_pred = lasso_reg.predict(X_test)\n",
    "mse = mean_squared_error(y_test, y_pred)\n",
    "r2 = r2_score(y_test, y_pred)\n",
    "\n",
    "print('Test Scores')\n",
    "print(f'Mean Squared Error: {mse}')\n",
    "print(f'R^2 Score: {r2}')"
   ],
   "id": "cdc3de52229e26d4",
   "outputs": [
    {
     "name": "stdout",
     "output_type": "stream",
     "text": [
      "Test Scores\n",
      "Mean Squared Error: 0.01024302145565838\n",
      "R^2 Score: 0.5219715070721556\n"
     ]
    }
   ],
   "execution_count": 53
  },
  {
   "metadata": {
    "ExecuteTime": {
     "end_time": "2024-08-05T18:38:20.875560Z",
     "start_time": "2024-08-05T18:38:20.843143Z"
    }
   },
   "cell_type": "code",
   "source": [
    "y_train_pred = lasso_reg.predict(X_train)\n",
    "mse = mean_squared_error(y_train, y_train_pred)\n",
    "r2 = r2_score(y_train, y_train_pred)\n",
    "\n",
    "print('Train Scores')\n",
    "print(f'Mean Squared Error: {mse}')\n",
    "print(f'R^2 Score: {r2}')"
   ],
   "id": "fbc5b48c89157137",
   "outputs": [
    {
     "name": "stdout",
     "output_type": "stream",
     "text": [
      "Train Scores\n",
      "Mean Squared Error: 0.007097170485513158\n",
      "R^2 Score: 0.6267852696823561\n"
     ]
    }
   ],
   "execution_count": 54
  },
  {
   "metadata": {
    "ExecuteTime": {
     "end_time": "2024-08-05T18:44:36.011057Z",
     "start_time": "2024-08-05T18:44:36.006743Z"
    }
   },
   "cell_type": "code",
   "source": [
    "features = training_df.drop(columns=['full_season', 'tm', 'Season', 'Team', 'W/L%']).columns.to_list()\n",
    "importances = list(lasso_reg.coef_)\n",
    "feat_importance_df = pd.DataFrame({'Feature': features, 'Coeff.': importances})"
   ],
   "id": "7b1e5675f0080772",
   "outputs": [],
   "execution_count": 69
  },
  {
   "metadata": {
    "ExecuteTime": {
     "end_time": "2024-08-05T18:44:36.164430Z",
     "start_time": "2024-08-05T18:44:36.158103Z"
    }
   },
   "cell_type": "code",
   "source": [
    "important_features = feat_importance_df[feat_importance_df['Coeff.'].map(abs) > 0.000001]\n",
    "important_features\n",
    "#feat_importance_df.sort_values('Abs. Coeff.', ascending=False)"
   ],
   "id": "e309ddd457c189ce",
   "outputs": [
    {
     "data": {
      "text/plain": [
       "                     Feature    Coeff.\n",
       "4    pos_PG_x2p_per_100_poss  0.006544\n",
       "7    pos_PG_fta_per_100_poss -0.000924\n",
       "11   pos_PG_ast_per_100_poss  0.001209\n",
       "15    pos_PG_pf_per_100_poss -0.010106\n",
       "16   pos_PG_pts_per_100_poss  0.002077\n",
       "..                       ...       ...\n",
       "285        pos_C_tov_percent  0.002617\n",
       "287                pos_C_ows  0.009139\n",
       "288                pos_C_dws -0.011041\n",
       "292               pos_C_dbpm  0.000289\n",
       "293                pos_C_bpm  0.014822\n",
       "\n",
       "[83 rows x 2 columns]"
      ],
      "text/html": [
       "<div>\n",
       "<style scoped>\n",
       "    .dataframe tbody tr th:only-of-type {\n",
       "        vertical-align: middle;\n",
       "    }\n",
       "\n",
       "    .dataframe tbody tr th {\n",
       "        vertical-align: top;\n",
       "    }\n",
       "\n",
       "    .dataframe thead th {\n",
       "        text-align: right;\n",
       "    }\n",
       "</style>\n",
       "<table border=\"1\" class=\"dataframe\">\n",
       "  <thead>\n",
       "    <tr style=\"text-align: right;\">\n",
       "      <th></th>\n",
       "      <th>Feature</th>\n",
       "      <th>Coeff.</th>\n",
       "    </tr>\n",
       "  </thead>\n",
       "  <tbody>\n",
       "    <tr>\n",
       "      <th>4</th>\n",
       "      <td>pos_PG_x2p_per_100_poss</td>\n",
       "      <td>0.006544</td>\n",
       "    </tr>\n",
       "    <tr>\n",
       "      <th>7</th>\n",
       "      <td>pos_PG_fta_per_100_poss</td>\n",
       "      <td>-0.000924</td>\n",
       "    </tr>\n",
       "    <tr>\n",
       "      <th>11</th>\n",
       "      <td>pos_PG_ast_per_100_poss</td>\n",
       "      <td>0.001209</td>\n",
       "    </tr>\n",
       "    <tr>\n",
       "      <th>15</th>\n",
       "      <td>pos_PG_pf_per_100_poss</td>\n",
       "      <td>-0.010106</td>\n",
       "    </tr>\n",
       "    <tr>\n",
       "      <th>16</th>\n",
       "      <td>pos_PG_pts_per_100_poss</td>\n",
       "      <td>0.002077</td>\n",
       "    </tr>\n",
       "    <tr>\n",
       "      <th>...</th>\n",
       "      <td>...</td>\n",
       "      <td>...</td>\n",
       "    </tr>\n",
       "    <tr>\n",
       "      <th>285</th>\n",
       "      <td>pos_C_tov_percent</td>\n",
       "      <td>0.002617</td>\n",
       "    </tr>\n",
       "    <tr>\n",
       "      <th>287</th>\n",
       "      <td>pos_C_ows</td>\n",
       "      <td>0.009139</td>\n",
       "    </tr>\n",
       "    <tr>\n",
       "      <th>288</th>\n",
       "      <td>pos_C_dws</td>\n",
       "      <td>-0.011041</td>\n",
       "    </tr>\n",
       "    <tr>\n",
       "      <th>292</th>\n",
       "      <td>pos_C_dbpm</td>\n",
       "      <td>0.000289</td>\n",
       "    </tr>\n",
       "    <tr>\n",
       "      <th>293</th>\n",
       "      <td>pos_C_bpm</td>\n",
       "      <td>0.014822</td>\n",
       "    </tr>\n",
       "  </tbody>\n",
       "</table>\n",
       "<p>83 rows × 2 columns</p>\n",
       "</div>"
      ]
     },
     "execution_count": 70,
     "metadata": {},
     "output_type": "execute_result"
    }
   ],
   "execution_count": 70
  },
  {
   "metadata": {
    "ExecuteTime": {
     "end_time": "2024-08-05T18:44:36.294458Z",
     "start_time": "2024-08-05T18:44:36.292182Z"
    }
   },
   "cell_type": "code",
   "source": "len(feat_importance_df)",
   "id": "2ef55895f0d75591",
   "outputs": [
    {
     "data": {
      "text/plain": [
       "295"
      ]
     },
     "execution_count": 71,
     "metadata": {},
     "output_type": "execute_result"
    }
   ],
   "execution_count": 71
  },
  {
   "metadata": {
    "ExecuteTime": {
     "end_time": "2024-08-05T18:44:38.571085Z",
     "start_time": "2024-08-05T18:44:38.567130Z"
    }
   },
   "cell_type": "code",
   "source": "feat_importance_df['Abs. Coeff.'] = feat_importance_df['Coeff.'].map(abs)",
   "id": "c6309b42363ec20f",
   "outputs": [],
   "execution_count": 72
  },
  {
   "metadata": {
    "ExecuteTime": {
     "end_time": "2024-08-05T18:44:46.092923Z",
     "start_time": "2024-08-05T18:44:46.085517Z"
    }
   },
   "cell_type": "code",
   "source": "feat_importance_df.sort_values('Abs. Coeff.')",
   "id": "7039b486c26efaf8",
   "outputs": [
    {
     "data": {
      "text/plain": [
       "                     Feature    Coeff.  Abs. Coeff.\n",
       "0     pos_PG_fg_per_100_poss  0.000000     0.000000\n",
       "165       pos_PF_stl_percent -0.000000     0.000000\n",
       "168       pos_PF_usg_percent  0.000000     0.000000\n",
       "169               pos_PF_ows  0.000000     0.000000\n",
       "170               pos_PF_dws  0.000000     0.000000\n",
       "..                       ...       ...          ...\n",
       "287                pos_C_ows  0.009139     0.009139\n",
       "15    pos_PG_pf_per_100_poss -0.010106     0.010106\n",
       "288                pos_C_dws -0.011041     0.011041\n",
       "132  pos_PF_tov_per_100_poss -0.011614     0.011614\n",
       "293                pos_C_bpm  0.014822     0.014822\n",
       "\n",
       "[295 rows x 3 columns]"
      ],
      "text/html": [
       "<div>\n",
       "<style scoped>\n",
       "    .dataframe tbody tr th:only-of-type {\n",
       "        vertical-align: middle;\n",
       "    }\n",
       "\n",
       "    .dataframe tbody tr th {\n",
       "        vertical-align: top;\n",
       "    }\n",
       "\n",
       "    .dataframe thead th {\n",
       "        text-align: right;\n",
       "    }\n",
       "</style>\n",
       "<table border=\"1\" class=\"dataframe\">\n",
       "  <thead>\n",
       "    <tr style=\"text-align: right;\">\n",
       "      <th></th>\n",
       "      <th>Feature</th>\n",
       "      <th>Coeff.</th>\n",
       "      <th>Abs. Coeff.</th>\n",
       "    </tr>\n",
       "  </thead>\n",
       "  <tbody>\n",
       "    <tr>\n",
       "      <th>0</th>\n",
       "      <td>pos_PG_fg_per_100_poss</td>\n",
       "      <td>0.000000</td>\n",
       "      <td>0.000000</td>\n",
       "    </tr>\n",
       "    <tr>\n",
       "      <th>165</th>\n",
       "      <td>pos_PF_stl_percent</td>\n",
       "      <td>-0.000000</td>\n",
       "      <td>0.000000</td>\n",
       "    </tr>\n",
       "    <tr>\n",
       "      <th>168</th>\n",
       "      <td>pos_PF_usg_percent</td>\n",
       "      <td>0.000000</td>\n",
       "      <td>0.000000</td>\n",
       "    </tr>\n",
       "    <tr>\n",
       "      <th>169</th>\n",
       "      <td>pos_PF_ows</td>\n",
       "      <td>0.000000</td>\n",
       "      <td>0.000000</td>\n",
       "    </tr>\n",
       "    <tr>\n",
       "      <th>170</th>\n",
       "      <td>pos_PF_dws</td>\n",
       "      <td>0.000000</td>\n",
       "      <td>0.000000</td>\n",
       "    </tr>\n",
       "    <tr>\n",
       "      <th>...</th>\n",
       "      <td>...</td>\n",
       "      <td>...</td>\n",
       "      <td>...</td>\n",
       "    </tr>\n",
       "    <tr>\n",
       "      <th>287</th>\n",
       "      <td>pos_C_ows</td>\n",
       "      <td>0.009139</td>\n",
       "      <td>0.009139</td>\n",
       "    </tr>\n",
       "    <tr>\n",
       "      <th>15</th>\n",
       "      <td>pos_PG_pf_per_100_poss</td>\n",
       "      <td>-0.010106</td>\n",
       "      <td>0.010106</td>\n",
       "    </tr>\n",
       "    <tr>\n",
       "      <th>288</th>\n",
       "      <td>pos_C_dws</td>\n",
       "      <td>-0.011041</td>\n",
       "      <td>0.011041</td>\n",
       "    </tr>\n",
       "    <tr>\n",
       "      <th>132</th>\n",
       "      <td>pos_PF_tov_per_100_poss</td>\n",
       "      <td>-0.011614</td>\n",
       "      <td>0.011614</td>\n",
       "    </tr>\n",
       "    <tr>\n",
       "      <th>293</th>\n",
       "      <td>pos_C_bpm</td>\n",
       "      <td>0.014822</td>\n",
       "      <td>0.014822</td>\n",
       "    </tr>\n",
       "  </tbody>\n",
       "</table>\n",
       "<p>295 rows × 3 columns</p>\n",
       "</div>"
      ]
     },
     "execution_count": 73,
     "metadata": {},
     "output_type": "execute_result"
    }
   ],
   "execution_count": 73
  },
  {
   "metadata": {
    "ExecuteTime": {
     "end_time": "2024-08-05T18:49:02.213167Z",
     "start_time": "2024-08-05T18:49:02.208464Z"
    }
   },
   "cell_type": "code",
   "source": "joblib.dump(lasso_reg, '../models/win_prediction.pkl')",
   "id": "876f69049f69ed59",
   "outputs": [
    {
     "data": {
      "text/plain": [
       "['../models/win_prediction.pkl']"
      ]
     },
     "execution_count": 74,
     "metadata": {},
     "output_type": "execute_result"
    }
   ],
   "execution_count": 74
  },
  {
   "metadata": {},
   "cell_type": "code",
   "outputs": [],
   "execution_count": null,
   "source": "",
   "id": "dc7f4969c76f39d4"
  }
 ],
 "metadata": {
  "kernelspec": {
   "display_name": "Python 3",
   "language": "python",
   "name": "python3"
  },
  "language_info": {
   "codemirror_mode": {
    "name": "ipython",
    "version": 2
   },
   "file_extension": ".py",
   "mimetype": "text/x-python",
   "name": "python",
   "nbconvert_exporter": "python",
   "pygments_lexer": "ipython2",
   "version": "2.7.6"
  }
 },
 "nbformat": 4,
 "nbformat_minor": 5
}
