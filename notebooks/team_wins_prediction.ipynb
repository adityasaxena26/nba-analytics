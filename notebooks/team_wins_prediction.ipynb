{
 "cells": [
  {
   "metadata": {},
   "cell_type": "markdown",
   "source": "# Team Win Percentage Prediction",
   "id": "ee3a2e5a8d589198"
  },
  {
   "cell_type": "code",
   "id": "initial_id",
   "metadata": {
    "collapsed": true,
    "ExecuteTime": {
     "end_time": "2024-08-10T21:09:24.435076Z",
     "start_time": "2024-08-10T21:09:24.432290Z"
    }
   },
   "source": [
    "import pandas as pd\n",
    "import numpy as np\n",
    "import joblib\n",
    "from sklearn.model_selection import train_test_split, GridSearchCV\n",
    "from sklearn.linear_model import LinearRegression, Ridge, Lasso\n",
    "from sklearn.ensemble import RandomForestRegressor\n",
    "from sklearn.metrics import mean_squared_error, r2_score\n",
    "from sklearn.preprocessing import StandardScaler\n",
    "from sklearn.decomposition import PCA\n",
    "from catboost import CatBoostRegressor\n",
    "import seaborn as sns\n",
    "import matplotlib.pyplot as plt\n",
    "from src.models.win_prediction import agg_by_pos"
   ],
   "outputs": [],
   "execution_count": 8
  },
  {
   "metadata": {
    "ExecuteTime": {
     "end_time": "2024-08-10T21:09:24.542131Z",
     "start_time": "2024-08-10T21:09:24.510908Z"
    }
   },
   "cell_type": "code",
   "source": "df = pd.read_csv('../data/processed/roster_stats.csv')",
   "id": "80198c6582fd61f8",
   "outputs": [],
   "execution_count": 9
  },
  {
   "metadata": {
    "ExecuteTime": {
     "end_time": "2024-08-10T21:09:24.550372Z",
     "start_time": "2024-08-10T21:09:24.543157Z"
    }
   },
   "cell_type": "code",
   "source": "df.head()",
   "id": "f40c9f786889054",
   "outputs": [
    {
     "data": {
      "text/plain": [
       "  full_season   tm  pos_PG_fg_per_100_poss  pos_PG_fga_per_100_poss  \\\n",
       "0     1997-98  BOS                7.260762                17.634528   \n",
       "1     1997-98  CHH                7.210241                15.574443   \n",
       "2     1997-98  CHI                5.968318                13.870941   \n",
       "3     1997-98  CLE                4.000000                 8.200000   \n",
       "4     1997-98  DAL                6.590216                17.010461   \n",
       "\n",
       "   pos_PG_x3p_per_100_poss  pos_PG_x3pa_per_100_poss  pos_PG_x2p_per_100_poss  \\\n",
       "0                 2.348459                  6.420697                 4.870058   \n",
       "1                 1.357956                  4.001975                 5.852285   \n",
       "2                 1.464821                  4.228767                 4.503498   \n",
       "3                 1.100000                  2.500000                 3.000000   \n",
       "4                 2.510403                  6.967061                 4.090458   \n",
       "\n",
       "   pos_PG_x2pa_per_100_poss  pos_PG_ft_per_100_poss  pos_PG_fta_per_100_poss  \\\n",
       "0                 11.213831                4.594588                 5.578351   \n",
       "1                 11.572468                3.628197                 4.573456   \n",
       "2                  9.708744                2.167735                 3.068318   \n",
       "3                  5.700000                3.000000                 3.200000   \n",
       "4                 10.037456                2.986298                 3.922465   \n",
       "\n",
       "   ...  pos_C_dws  pos_C_ws  pos_C_ws_48  pos_C_obpm  pos_C_dbpm  pos_C_bpm  \\\n",
       "0  ...   1.246365  2.444382     0.103279   -3.005288   -0.304627  -3.309914   \n",
       "1  ...   3.583232  6.709271     0.121801    0.385968    1.777406   2.071935   \n",
       "2  ...   0.717859  1.224547     0.077017   -3.796097   -0.156843  -3.929552   \n",
       "3  ...   3.708125  6.085096     0.126054   -1.569982    0.053047  -1.579689   \n",
       "4  ...   1.660139  1.539976     0.052147   -2.863951    0.772142  -2.057897   \n",
       "\n",
       "   pos_C_vorp   Season  Team   W/L%  \n",
       "0   -0.352974  1997-98   BOS  0.439  \n",
       "1    3.017477  1997-98   CHH  0.622  \n",
       "2   -0.357671  1997-98   CHI  0.756  \n",
       "3    0.796386  1997-98   CLE  0.573  \n",
       "4    0.151702  1997-98   DAL  0.244  \n",
       "\n",
       "[5 rows x 300 columns]"
      ],
      "text/html": [
       "<div>\n",
       "<style scoped>\n",
       "    .dataframe tbody tr th:only-of-type {\n",
       "        vertical-align: middle;\n",
       "    }\n",
       "\n",
       "    .dataframe tbody tr th {\n",
       "        vertical-align: top;\n",
       "    }\n",
       "\n",
       "    .dataframe thead th {\n",
       "        text-align: right;\n",
       "    }\n",
       "</style>\n",
       "<table border=\"1\" class=\"dataframe\">\n",
       "  <thead>\n",
       "    <tr style=\"text-align: right;\">\n",
       "      <th></th>\n",
       "      <th>full_season</th>\n",
       "      <th>tm</th>\n",
       "      <th>pos_PG_fg_per_100_poss</th>\n",
       "      <th>pos_PG_fga_per_100_poss</th>\n",
       "      <th>pos_PG_x3p_per_100_poss</th>\n",
       "      <th>pos_PG_x3pa_per_100_poss</th>\n",
       "      <th>pos_PG_x2p_per_100_poss</th>\n",
       "      <th>pos_PG_x2pa_per_100_poss</th>\n",
       "      <th>pos_PG_ft_per_100_poss</th>\n",
       "      <th>pos_PG_fta_per_100_poss</th>\n",
       "      <th>...</th>\n",
       "      <th>pos_C_dws</th>\n",
       "      <th>pos_C_ws</th>\n",
       "      <th>pos_C_ws_48</th>\n",
       "      <th>pos_C_obpm</th>\n",
       "      <th>pos_C_dbpm</th>\n",
       "      <th>pos_C_bpm</th>\n",
       "      <th>pos_C_vorp</th>\n",
       "      <th>Season</th>\n",
       "      <th>Team</th>\n",
       "      <th>W/L%</th>\n",
       "    </tr>\n",
       "  </thead>\n",
       "  <tbody>\n",
       "    <tr>\n",
       "      <th>0</th>\n",
       "      <td>1997-98</td>\n",
       "      <td>BOS</td>\n",
       "      <td>7.260762</td>\n",
       "      <td>17.634528</td>\n",
       "      <td>2.348459</td>\n",
       "      <td>6.420697</td>\n",
       "      <td>4.870058</td>\n",
       "      <td>11.213831</td>\n",
       "      <td>4.594588</td>\n",
       "      <td>5.578351</td>\n",
       "      <td>...</td>\n",
       "      <td>1.246365</td>\n",
       "      <td>2.444382</td>\n",
       "      <td>0.103279</td>\n",
       "      <td>-3.005288</td>\n",
       "      <td>-0.304627</td>\n",
       "      <td>-3.309914</td>\n",
       "      <td>-0.352974</td>\n",
       "      <td>1997-98</td>\n",
       "      <td>BOS</td>\n",
       "      <td>0.439</td>\n",
       "    </tr>\n",
       "    <tr>\n",
       "      <th>1</th>\n",
       "      <td>1997-98</td>\n",
       "      <td>CHH</td>\n",
       "      <td>7.210241</td>\n",
       "      <td>15.574443</td>\n",
       "      <td>1.357956</td>\n",
       "      <td>4.001975</td>\n",
       "      <td>5.852285</td>\n",
       "      <td>11.572468</td>\n",
       "      <td>3.628197</td>\n",
       "      <td>4.573456</td>\n",
       "      <td>...</td>\n",
       "      <td>3.583232</td>\n",
       "      <td>6.709271</td>\n",
       "      <td>0.121801</td>\n",
       "      <td>0.385968</td>\n",
       "      <td>1.777406</td>\n",
       "      <td>2.071935</td>\n",
       "      <td>3.017477</td>\n",
       "      <td>1997-98</td>\n",
       "      <td>CHH</td>\n",
       "      <td>0.622</td>\n",
       "    </tr>\n",
       "    <tr>\n",
       "      <th>2</th>\n",
       "      <td>1997-98</td>\n",
       "      <td>CHI</td>\n",
       "      <td>5.968318</td>\n",
       "      <td>13.870941</td>\n",
       "      <td>1.464821</td>\n",
       "      <td>4.228767</td>\n",
       "      <td>4.503498</td>\n",
       "      <td>9.708744</td>\n",
       "      <td>2.167735</td>\n",
       "      <td>3.068318</td>\n",
       "      <td>...</td>\n",
       "      <td>0.717859</td>\n",
       "      <td>1.224547</td>\n",
       "      <td>0.077017</td>\n",
       "      <td>-3.796097</td>\n",
       "      <td>-0.156843</td>\n",
       "      <td>-3.929552</td>\n",
       "      <td>-0.357671</td>\n",
       "      <td>1997-98</td>\n",
       "      <td>CHI</td>\n",
       "      <td>0.756</td>\n",
       "    </tr>\n",
       "    <tr>\n",
       "      <th>3</th>\n",
       "      <td>1997-98</td>\n",
       "      <td>CLE</td>\n",
       "      <td>4.000000</td>\n",
       "      <td>8.200000</td>\n",
       "      <td>1.100000</td>\n",
       "      <td>2.500000</td>\n",
       "      <td>3.000000</td>\n",
       "      <td>5.700000</td>\n",
       "      <td>3.000000</td>\n",
       "      <td>3.200000</td>\n",
       "      <td>...</td>\n",
       "      <td>3.708125</td>\n",
       "      <td>6.085096</td>\n",
       "      <td>0.126054</td>\n",
       "      <td>-1.569982</td>\n",
       "      <td>0.053047</td>\n",
       "      <td>-1.579689</td>\n",
       "      <td>0.796386</td>\n",
       "      <td>1997-98</td>\n",
       "      <td>CLE</td>\n",
       "      <td>0.573</td>\n",
       "    </tr>\n",
       "    <tr>\n",
       "      <th>4</th>\n",
       "      <td>1997-98</td>\n",
       "      <td>DAL</td>\n",
       "      <td>6.590216</td>\n",
       "      <td>17.010461</td>\n",
       "      <td>2.510403</td>\n",
       "      <td>6.967061</td>\n",
       "      <td>4.090458</td>\n",
       "      <td>10.037456</td>\n",
       "      <td>2.986298</td>\n",
       "      <td>3.922465</td>\n",
       "      <td>...</td>\n",
       "      <td>1.660139</td>\n",
       "      <td>1.539976</td>\n",
       "      <td>0.052147</td>\n",
       "      <td>-2.863951</td>\n",
       "      <td>0.772142</td>\n",
       "      <td>-2.057897</td>\n",
       "      <td>0.151702</td>\n",
       "      <td>1997-98</td>\n",
       "      <td>DAL</td>\n",
       "      <td>0.244</td>\n",
       "    </tr>\n",
       "  </tbody>\n",
       "</table>\n",
       "<p>5 rows × 300 columns</p>\n",
       "</div>"
      ]
     },
     "execution_count": 10,
     "metadata": {},
     "output_type": "execute_result"
    }
   ],
   "execution_count": 10
  },
  {
   "metadata": {},
   "cell_type": "markdown",
   "source": "## Simple Linear Regression",
   "id": "5275446646cbc1e0"
  },
  {
   "metadata": {
    "ExecuteTime": {
     "end_time": "2024-08-10T21:11:41.274595Z",
     "start_time": "2024-08-10T21:11:41.070029Z"
    }
   },
   "cell_type": "code",
   "source": [
    "X, y = df.drop(columns=['W/L%', 'tm', 'Team', 'full_season', 'Season']), df['W/L%']\n",
    "X_train, X_test, y_train, y_test = train_test_split(X, y, test_size=0.2, random_state=0)\n",
    "lin_reg = LinearRegression().fit(X_train, y_train)\n",
    "y_pred = lin_reg.predict(X_test)\n",
    "mse = mean_squared_error(y_test, y_pred)\n",
    "r2 = r2_score(y_test, y_pred)\n",
    "\n",
    "print('Test Scores')\n",
    "print(f'Mean Squared Error: {mse}')\n",
    "print(f'R^2 Score: {r2}')"
   ],
   "id": "4b1caaa8c5da1429",
   "outputs": [
    {
     "name": "stdout",
     "output_type": "stream",
     "text": [
      "Test Scores\n",
      "Mean Squared Error: 0.028117973609862804\n",
      "R^2 Score: -0.3122292681992309\n"
     ]
    }
   ],
   "execution_count": 19
  },
  {
   "metadata": {
    "ExecuteTime": {
     "end_time": "2024-08-10T21:11:41.287019Z",
     "start_time": "2024-08-10T21:11:41.278012Z"
    }
   },
   "cell_type": "code",
   "source": [
    "y_train_pred = lin_reg.predict(X_train)\n",
    "mse = mean_squared_error(y_train, y_train_pred)\n",
    "r2 = r2_score(y_train, y_train_pred)\n",
    "\n",
    "print('Train Scores')\n",
    "print(f'Mean Squared Error: {mse}')\n",
    "print(f'R^2 Score: {r2}')"
   ],
   "id": "710bfdf2910fee49",
   "outputs": [
    {
     "name": "stdout",
     "output_type": "stream",
     "text": [
      "Train Scores\n",
      "Mean Squared Error: 0.0033648642503562357\n",
      "R^2 Score: 0.8230538626181273\n"
     ]
    }
   ],
   "execution_count": 20
  },
  {
   "metadata": {},
   "cell_type": "markdown",
   "source": "## Random Forest",
   "id": "f96dcd7ac436b97c"
  },
  {
   "metadata": {
    "ExecuteTime": {
     "end_time": "2024-08-10T21:11:46.706217Z",
     "start_time": "2024-08-10T21:11:41.289938Z"
    }
   },
   "cell_type": "code",
   "source": [
    "rf_reg = RandomForestRegressor(random_state=41)\n",
    "rf_reg.fit(X_train, y_train)\n",
    "y_pred = rf_reg.predict(X_test)\n",
    "mse = mean_squared_error(y_test, y_pred)\n",
    "r2 = r2_score(y_test, y_pred)\n",
    "\n",
    "print('Test Scores')\n",
    "print(f'Mean Squared Error: {mse}')\n",
    "print(f'R^2 Score: {r2}')"
   ],
   "id": "733e4d2940bcc4a1",
   "outputs": [
    {
     "name": "stdout",
     "output_type": "stream",
     "text": [
      "Test Scores\n",
      "Mean Squared Error: 0.01120297556618705\n",
      "R^2 Score: 0.4771716969065316\n"
     ]
    }
   ],
   "execution_count": 21
  },
  {
   "metadata": {
    "ExecuteTime": {
     "end_time": "2024-08-10T21:11:46.716976Z",
     "start_time": "2024-08-10T21:11:46.707542Z"
    }
   },
   "cell_type": "code",
   "source": [
    "y_train_pred = rf_reg.predict(X_train)\n",
    "mse = mean_squared_error(y_train, y_train_pred)\n",
    "r2 = r2_score(y_train, y_train_pred)\n",
    "\n",
    "print('Train Scores')\n",
    "print(f'Mean Squared Error: {mse}')\n",
    "print(f'R^2 Score: {r2}')"
   ],
   "id": "3d419b846a23973b",
   "outputs": [
    {
     "name": "stdout",
     "output_type": "stream",
     "text": [
      "Train Scores\n",
      "Mean Squared Error: 0.0014083504139240522\n",
      "R^2 Score: 0.9259399050652222\n"
     ]
    }
   ],
   "execution_count": 22
  },
  {
   "metadata": {},
   "cell_type": "markdown",
   "source": "## Gradient Boosted Trees",
   "id": "53b8f58fa32f7d7d"
  },
  {
   "metadata": {
    "ExecuteTime": {
     "end_time": "2024-08-10T21:11:54.595249Z",
     "start_time": "2024-08-10T21:11:46.717707Z"
    }
   },
   "cell_type": "code",
   "source": [
    "cat_reg = CatBoostRegressor(iterations=1000,\n",
    "                            learning_rate=0.01,\n",
    "                            depth=6, l2_leaf_reg=3,\n",
    "                            bagging_temperature=1,\n",
    "                            early_stopping_rounds=50,\n",
    "                            loss_function='RMSE',\n",
    "                            random_state=41,\n",
    "                            logging_level='Silent',\n",
    "                            allow_writing_files=False)\n",
    "cat_reg.fit(X_train, y_train)\n",
    "y_pred = cat_reg.predict(X_test)\n",
    "mse = mean_squared_error(y_test, y_pred)\n",
    "r2 = r2_score(y_test, y_pred)\n",
    "\n",
    "print('Test Scores')\n",
    "print(f'Mean Squared Error: {mse}')\n",
    "print(f'R^2 Score: {r2}')"
   ],
   "id": "2c99209b664214b3",
   "outputs": [
    {
     "name": "stdout",
     "output_type": "stream",
     "text": [
      "Test Scores\n",
      "Mean Squared Error: 0.00993851391296275\n",
      "R^2 Score: 0.5361824781562337\n"
     ]
    }
   ],
   "execution_count": 23
  },
  {
   "metadata": {
    "ExecuteTime": {
     "end_time": "2024-08-10T21:11:54.601506Z",
     "start_time": "2024-08-10T21:11:54.595888Z"
    }
   },
   "cell_type": "code",
   "source": [
    "y_train_pred = cat_reg.predict(X_train)\n",
    "mse = mean_squared_error(y_train, y_train_pred)\n",
    "r2 = r2_score(y_train, y_train_pred)\n",
    "\n",
    "print('Train Scores')\n",
    "print(f'Mean Squared Error: {mse}')\n",
    "print(f'R^2 Score: {r2}')"
   ],
   "id": "2a46b3d16ad35791",
   "outputs": [
    {
     "name": "stdout",
     "output_type": "stream",
     "text": [
      "Train Scores\n",
      "Mean Squared Error: 0.0014977516934527079\n",
      "R^2 Score: 0.9212386125575325\n"
     ]
    }
   ],
   "execution_count": 24
  },
  {
   "metadata": {
    "ExecuteTime": {
     "end_time": "2024-08-10T21:11:54.690273Z",
     "start_time": "2024-08-10T21:11:54.602162Z"
    }
   },
   "cell_type": "code",
   "source": [
    "plt.scatter(y_test, y_pred)\n",
    "plt.xlabel('Actual W/L%')\n",
    "plt.ylabel('Predicted W/L%')\n",
    "plt.title('Actual vs Predicted W/L%')\n",
    "plt.plot([min(y_test), max(y_test)], [min(y_test), max(y_test)], color='red')\n",
    "plt.show()"
   ],
   "id": "9c6971bc63a2ee87",
   "outputs": [
    {
     "data": {
      "text/plain": [
       "<Figure size 640x480 with 1 Axes>"
      ],
      "image/png": "[encoded data removed]"
     },
     "metadata": {},
     "output_type": "display_data"
    }
   ],
   "execution_count": 25
  },
  {
   "metadata": {},
   "cell_type": "markdown",
   "source": "## Ridge Regression",
   "id": "bb367cdbe58f8bb2"
  },
  {
   "metadata": {
    "ExecuteTime": {
     "end_time": "2024-08-10T21:11:54.723107Z",
     "start_time": "2024-08-10T21:11:54.691310Z"
    }
   },
   "cell_type": "code",
   "source": [
    "X, y = df.drop(columns=['W/L%', 'tm', 'Team', 'full_season', 'Season']), df['W/L%']\n",
    "X_train, X_test, y_train, y_test = train_test_split(X, y, test_size=0.2, random_state=0)\n",
    "ridge_reg = Ridge(alpha=10).fit(X_train, y_train)\n",
    "y_pred = ridge_reg.predict(X_test)\n",
    "mse = mean_squared_error(y_test, y_pred)\n",
    "r2 = r2_score(y_test, y_pred)\n",
    "\n",
    "print('Test Scores')\n",
    "print(f'Mean Squared Error: {mse}')\n",
    "print(f'R^2 Score: {r2}')"
   ],
   "id": "41c3166c0bdba831",
   "outputs": [
    {
     "name": "stdout",
     "output_type": "stream",
     "text": [
      "Test Scores\n",
      "Mean Squared Error: 0.01057040604696495\n",
      "R^2 Score: 0.5066928938751066\n"
     ]
    }
   ],
   "execution_count": 26
  },
  {
   "metadata": {},
   "cell_type": "markdown",
   "source": "## Ridge Regression GridSearchCV",
   "id": "2f7badd200c6fc45"
  },
  {
   "metadata": {},
   "cell_type": "code",
   "source": [
    "ridge_params = {'alpha': [1, 10, 100, 1000, 10000, 100000, 1000000]}\n",
    "ridge = Ridge()\n",
    "X_train, X_test, y_train, y_test = train_test_split(X, y, test_size=0.2, random_state=0)\n",
    "ridge_grid_search = GridSearchCV(ridge, ridge_params, cv=5, n_jobs=-1)\n",
    "ridge_grid_search.fit(X_train, y_train)"
   ],
   "id": "14345ee927ae6b92",
   "outputs": [],
   "execution_count": null
  },
  {
   "metadata": {},
   "cell_type": "code",
   "source": "ridge_grid_search.best_estimator_",
   "id": "d6835ac5ad7aa88d",
   "outputs": [],
   "execution_count": null
  },
  {
   "metadata": {
    "ExecuteTime": {
     "end_time": "2024-08-10T21:13:00.926438Z",
     "start_time": "2024-08-10T21:13:00.874124Z"
    }
   },
   "cell_type": "code",
   "source": [
    "model = Ridge(alpha=10000, random_state=41)\n",
    "model.fit(X_train, y_train)\n",
    "y_pred = model.predict(X_test)\n",
    "mse = mean_squared_error(y_test, y_pred)\n",
    "r2 = r2_score(y_test, y_pred)\n",
    "\n",
    "print('Test Scores')\n",
    "print(f'Mean Squared Error: {mse}')\n",
    "print(f'R^2 Score: {r2}')\n",
    "\n",
    "y_train_pred = model.predict(X_train)\n",
    "mse = mean_squared_error(y_train, y_train_pred)\n",
    "r2 = r2_score(y_train, y_train_pred)\n",
    "\n",
    "print('Train Scores')\n",
    "print(f'Mean Squared Error: {mse}')\n",
    "print(f'R^2 Score: {r2}')"
   ],
   "id": "3e9b3cf363778491",
   "outputs": [
    {
     "name": "stdout",
     "output_type": "stream",
     "text": [
      "Test Scores\n",
      "Mean Squared Error: 0.010815828662251392\n",
      "R^2 Score: 0.4952393395285051\n",
      "Train Scores\n",
      "Mean Squared Error: 0.008725892003968706\n",
      "R^2 Score: 0.5411366490787355\n"
     ]
    }
   ],
   "execution_count": 27
  },
  {
   "metadata": {},
   "cell_type": "markdown",
   "source": "## GridSearch Boosted Trees",
   "id": "cb900775979dc608"
  },
  {
   "metadata": {},
   "cell_type": "code",
   "source": [
    "parameters = {\n",
    "    'learning_rate': [0.01, 0.1, 0.2],\n",
    "    'depth': [4, 6, 8, 10],\n",
    "    'iterations': [100, 200, 500],\n",
    "    'l2_leaf_reg': [1, 3, 5, 7],\n",
    "    'border_count': [32, 64, 128],\n",
    "    'bagging_temperature': [0, 1, 2, 3],\n",
    "    'random_strength': [1, 2, 5]\n",
    "}\n",
    "catboost_model = CatBoostRegressor(random_state=41, logging_level='Silent', allow_writing_files=False, loss_function='RMSE')\n",
    "catboost_gridsearch = GridSearchCV(estimator=catboost_model, param_grid=parameters, cv=3, n_jobs=-1, verbose=2)\n",
    "catboost_gridsearch.fit(X_train, y_train)\n",
    "\n",
    "best_params = catboost_gridsearch.best_params_\n",
    "best_model = catboost_gridsearch.best_estimator_\n",
    "\n",
    "print(f'Best Parameters: {best_params}')"
   ],
   "id": "e0a932cfe9ab8256",
   "outputs": [],
   "execution_count": null
  },
  {
   "metadata": {},
   "cell_type": "code",
   "source": "training_df = pd.read_csv('../data/processed/roster_stats.csv')",
   "id": "d9b1932d2331b1a5",
   "outputs": [],
   "execution_count": null
  },
  {
   "metadata": {},
   "cell_type": "code",
   "source": "training_df.head()",
   "id": "c9046e991c3c8fe9",
   "outputs": [],
   "execution_count": null
  },
  {
   "metadata": {},
   "cell_type": "code",
   "source": [
    "X = training_df.drop(columns=['full_season', 'tm', 'Season', 'Team', 'W/L%'])\n",
    "y = training_df['W/L%']"
   ],
   "id": "8e33bc515d4949cf",
   "outputs": [],
   "execution_count": null
  },
  {
   "metadata": {},
   "cell_type": "code",
   "source": [
    "X_train, X_test, y_train, y_test = train_test_split(X, y, test_size=0.2, random_state=0)\n",
    "ridge_reg = Ridge(alpha=10000).fit(X_train, y_train)\n",
    "y_pred = ridge_reg.predict(X_test)\n",
    "mse = mean_squared_error(y_test, y_pred)\n",
    "r2 = r2_score(y_test, y_pred)\n",
    "\n",
    "print('Test Scores')\n",
    "print(f'Mean Squared Error: {mse}')\n",
    "print(f'R^2 Score: {r2}')"
   ],
   "id": "13bc3cf7cf89568b",
   "outputs": [],
   "execution_count": null
  },
  {
   "metadata": {},
   "cell_type": "code",
   "source": [
    "y_pred = model.predict(X_test)\n",
    "mse = mean_squared_error(y_test, y_pred)\n",
    "r2 = r2_score(y_test, y_pred)\n",
    "\n",
    "print('Test Scores')\n",
    "print(f'Mean Squared Error: {mse}')\n",
    "print(f'R^2 Score: {r2}')"
   ],
   "id": "1efbfc70fc4ba0fe",
   "outputs": [],
   "execution_count": null
  },
  {
   "metadata": {},
   "cell_type": "code",
   "source": [
    "plt.scatter(y_test, y_pred)\n",
    "plt.xlabel('Actual W/L%')\n",
    "plt.ylabel('Predicted W/L%')\n",
    "plt.title('Actual vs Predicted W/L%')\n",
    "plt.plot([min(y_test), max(y_test)], [min(y_test), max(y_test)], color='red')\n",
    "plt.show()"
   ],
   "id": "3d61fd787e4f0ff0",
   "outputs": [],
   "execution_count": null
  },
  {
   "metadata": {},
   "cell_type": "code",
   "source": [
    "features = training_df.drop(columns=['full_season', 'tm', 'Season', 'Team', 'W/L%']).columns.to_list()\n",
    "importances = list(abs(model.coef_))\n",
    "feat_importance_df = pd.DataFrame({'Feature': features, 'Abs. Coeff.': importances})"
   ],
   "id": "88f7b2741bad1f66",
   "outputs": [],
   "execution_count": null
  },
  {
   "metadata": {},
   "cell_type": "code",
   "source": "feat_importance_df.sort_values('Abs. Coeff.', ascending=False)",
   "id": "1b71b982cfb8b26f",
   "outputs": [],
   "execution_count": null
  },
  {
   "metadata": {},
   "cell_type": "markdown",
   "source": "## Lasso Regression (L1 Regularization)",
   "id": "1ca5d42f35848aee"
  },
  {
   "metadata": {
    "ExecuteTime": {
     "end_time": "2024-08-10T21:13:12.057746Z",
     "start_time": "2024-08-10T21:13:11.977249Z"
    }
   },
   "cell_type": "code",
   "source": [
    "X_train, X_test, y_train, y_test = train_test_split(X, y, test_size=0.2, random_state=0)\n",
    "lasso_reg = Lasso(alpha=0.001).fit(X_train, y_train)\n",
    "y_pred = lasso_reg.predict(X_test)\n",
    "mse = mean_squared_error(y_test, y_pred)\n",
    "r2 = r2_score(y_test, y_pred)\n",
    "\n",
    "print('Test Scores')\n",
    "print(f'Mean Squared Error: {mse}')\n",
    "print(f'R^2 Score: {r2}')"
   ],
   "id": "cdc3de52229e26d4",
   "outputs": [
    {
     "name": "stdout",
     "output_type": "stream",
     "text": [
      "Test Scores\n",
      "Mean Squared Error: 0.01024302145565838\n",
      "R^2 Score: 0.5219715070721556\n"
     ]
    }
   ],
   "execution_count": 28
  },
  {
   "metadata": {
    "ExecuteTime": {
     "end_time": "2024-08-10T21:13:12.327628Z",
     "start_time": "2024-08-10T21:13:12.278407Z"
    }
   },
   "cell_type": "code",
   "source": [
    "y_train_pred = lasso_reg.predict(X_train)\n",
    "mse = mean_squared_error(y_train, y_train_pred)\n",
    "r2 = r2_score(y_train, y_train_pred)\n",
    "\n",
    "print('Train Scores')\n",
    "print(f'Mean Squared Error: {mse}')\n",
    "print(f'R^2 Score: {r2}')"
   ],
   "id": "fbc5b48c89157137",
   "outputs": [
    {
     "name": "stdout",
     "output_type": "stream",
     "text": [
      "Train Scores\n",
      "Mean Squared Error: 0.007097170485513158\n",
      "R^2 Score: 0.6267852696823561\n"
     ]
    }
   ],
   "execution_count": 29
  },
  {
   "metadata": {},
   "cell_type": "code",
   "source": [
    "features = training_df.drop(columns=['full_season', 'tm', 'Season', 'Team', 'W/L%']).columns.to_list()\n",
    "importances = list(lasso_reg.coef_)\n",
    "feat_importance_df = pd.DataFrame({'Feature': features, 'Coeff.': importances})"
   ],
   "id": "7b1e5675f0080772",
   "outputs": [],
   "execution_count": null
  },
  {
   "metadata": {},
   "cell_type": "code",
   "source": [
    "important_features = feat_importance_df[feat_importance_df['Coeff.'].map(abs) > 0.000001]\n",
    "important_features\n",
    "#feat_importance_df.sort_values('Abs. Coeff.', ascending=False)"
   ],
   "id": "e309ddd457c189ce",
   "outputs": [],
   "execution_count": null
  },
  {
   "metadata": {},
   "cell_type": "code",
   "source": "len(feat_importance_df)",
   "id": "2ef55895f0d75591",
   "outputs": [],
   "execution_count": null
  },
  {
   "metadata": {},
   "cell_type": "code",
   "source": "feat_importance_df['Abs. Coeff.'] = feat_importance_df['Coeff.'].map(abs)",
   "id": "c6309b42363ec20f",
   "outputs": [],
   "execution_count": null
  },
  {
   "metadata": {},
   "cell_type": "code",
   "source": "feat_importance_df.sort_values('Abs. Coeff.')",
   "id": "7039b486c26efaf8",
   "outputs": [],
   "execution_count": null
  },
  {
   "metadata": {},
   "cell_type": "code",
   "source": "joblib.dump(lasso_reg, '../models/win_prediction.pkl')",
   "id": "876f69049f69ed59",
   "outputs": [],
   "execution_count": null
  },
  {
   "metadata": {},
   "cell_type": "code",
   "source": "",
   "id": "dc7f4969c76f39d4",
   "outputs": [],
   "execution_count": null
  }
 ],
 "metadata": {
  "kernelspec": {
   "display_name": "Python 3",
   "language": "python",
   "name": "python3"
  },
  "language_info": {
   "codemirror_mode": {
    "name": "ipython",
    "version": 2
   },
   "file_extension": ".py",
   "mimetype": "text/x-python",
   "name": "python",
   "nbconvert_exporter": "python",
   "pygments_lexer": "ipython2",
   "version": "2.7.6"
  }
 },
 "nbformat": 4,
 "nbformat_minor": 5
}
